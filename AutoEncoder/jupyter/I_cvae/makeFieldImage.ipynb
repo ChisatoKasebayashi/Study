{
 "cells": [
  {
   "cell_type": "code",
   "execution_count": 1,
   "metadata": {
    "scrolled": false
   },
   "outputs": [
    {
     "name": "stdout",
     "output_type": "stream",
     "text": [
      "[0, 3]\n",
      "[6, 36]\n",
      "(50, 70, 3)\n",
      "30\n"
     ]
    }
   ],
   "source": [
    "import cv2\n",
    "import numpy as np\n",
    "import matplotlib.pyplot as plt\n",
    "from PIL import Image\n",
    "%matplotlib inline\n",
    "\n",
    "ratio = 150\n",
    "r_field_w = 9000\n",
    "r_field_h = 6000\n",
    "r_center_circle_pos=[int(r_field_w/2),int(r_field_h/2)]\n",
    "r_center_circle_radius = 1500\n",
    "r_goal_line_left_upper = [0, (r_field_h-5000)/2]\n",
    "r_goal_line_right_lower = [1000, (r_field_h-1000)/2 + 5000]\n",
    "field_w = int(r_field_w/ratio)\n",
    "field_h = int(r_field_h/ratio)\n",
    "center_circle_pos = [int(field_w/2), int(field_h/2)]\n",
    "center_circle_radius = int(r_center_circle_radius/ratio)\n",
    "goal_line_left_upper = [int(r_goal_line_left_upper[0]/ratio), int(r_goal_line_left_upper[1]/ratio)]\n",
    "goal_line_right_lower = [int(r_goal_line_right_lower[0]/ratio), goal_line_left_upper[1]+int(5000/ratio)]\n",
    "print(goal_line_left_upper)\n",
    "print(goal_line_right_lower)\n",
    "mergin = 10\n",
    "img=np.full((field_h + mergin, field_w + mergin, 3), (45,136,0), np.uint8)\n",
    "#img[:,:,1]=255\n",
    "#cv2.imwrite('gereen.png',img)\n",
    "print(img.shape)\n",
    "print(center_circle_pos[0])"
   ]
  },
  {
   "cell_type": "code",
   "execution_count": 2,
   "metadata": {},
   "outputs": [],
   "source": [
    "white = (255,255,255)\n",
    "hutosa=1"
   ]
  },
  {
   "cell_type": "markdown",
   "metadata": {},
   "source": [
    "# 外枠"
   ]
  },
  {
   "cell_type": "code",
   "execution_count": 3,
   "metadata": {
    "scrolled": true
   },
   "outputs": [
    {
     "name": "stdout",
     "output_type": "stream",
     "text": [
      "65 45\n"
     ]
    },
    {
     "data": {
      "text/plain": [
       "array([[[ 45, 136,   0],\n",
       "        [ 45, 136,   0],\n",
       "        [ 45, 136,   0],\n",
       "        ...,\n",
       "        [ 45, 136,   0],\n",
       "        [ 45, 136,   0],\n",
       "        [ 45, 136,   0]],\n",
       "\n",
       "       [[ 45, 136,   0],\n",
       "        [ 45, 136,   0],\n",
       "        [ 45, 136,   0],\n",
       "        ...,\n",
       "        [ 45, 136,   0],\n",
       "        [ 45, 136,   0],\n",
       "        [ 45, 136,   0]],\n",
       "\n",
       "       [[ 45, 136,   0],\n",
       "        [ 45, 136,   0],\n",
       "        [ 45, 136,   0],\n",
       "        ...,\n",
       "        [ 45, 136,   0],\n",
       "        [ 45, 136,   0],\n",
       "        [ 45, 136,   0]],\n",
       "\n",
       "       ...,\n",
       "\n",
       "       [[ 45, 136,   0],\n",
       "        [ 45, 136,   0],\n",
       "        [ 45, 136,   0],\n",
       "        ...,\n",
       "        [ 45, 136,   0],\n",
       "        [ 45, 136,   0],\n",
       "        [ 45, 136,   0]],\n",
       "\n",
       "       [[ 45, 136,   0],\n",
       "        [ 45, 136,   0],\n",
       "        [ 45, 136,   0],\n",
       "        ...,\n",
       "        [ 45, 136,   0],\n",
       "        [ 45, 136,   0],\n",
       "        [ 45, 136,   0]],\n",
       "\n",
       "       [[ 45, 136,   0],\n",
       "        [ 45, 136,   0],\n",
       "        [ 45, 136,   0],\n",
       "        ...,\n",
       "        [ 45, 136,   0],\n",
       "        [ 45, 136,   0],\n",
       "        [ 45, 136,   0]]], dtype=uint8)"
      ]
     },
     "execution_count": 3,
     "metadata": {},
     "output_type": "execute_result"
    }
   ],
   "source": [
    "print(field_w+int(mergin/2),field_h+int(mergin/2))\n",
    "cv2.rectangle(img, (int(mergin/2), int(mergin/2)), (field_w+int(mergin/2), field_h+int(mergin/2)), white, thickness=hutosa)"
   ]
  },
  {
   "cell_type": "markdown",
   "metadata": {},
   "source": [
    "# センターサークル"
   ]
  },
  {
   "cell_type": "code",
   "execution_count": 4,
   "metadata": {
    "scrolled": true
   },
   "outputs": [
    {
     "name": "stdout",
     "output_type": "stream",
     "text": [
      "10\n"
     ]
    },
    {
     "data": {
      "text/plain": [
       "array([[[ 45, 136,   0],\n",
       "        [ 45, 136,   0],\n",
       "        [ 45, 136,   0],\n",
       "        ...,\n",
       "        [ 45, 136,   0],\n",
       "        [ 45, 136,   0],\n",
       "        [ 45, 136,   0]],\n",
       "\n",
       "       [[ 45, 136,   0],\n",
       "        [ 45, 136,   0],\n",
       "        [ 45, 136,   0],\n",
       "        ...,\n",
       "        [ 45, 136,   0],\n",
       "        [ 45, 136,   0],\n",
       "        [ 45, 136,   0]],\n",
       "\n",
       "       [[ 45, 136,   0],\n",
       "        [ 45, 136,   0],\n",
       "        [ 45, 136,   0],\n",
       "        ...,\n",
       "        [ 45, 136,   0],\n",
       "        [ 45, 136,   0],\n",
       "        [ 45, 136,   0]],\n",
       "\n",
       "       ...,\n",
       "\n",
       "       [[ 45, 136,   0],\n",
       "        [ 45, 136,   0],\n",
       "        [ 45, 136,   0],\n",
       "        ...,\n",
       "        [ 45, 136,   0],\n",
       "        [ 45, 136,   0],\n",
       "        [ 45, 136,   0]],\n",
       "\n",
       "       [[ 45, 136,   0],\n",
       "        [ 45, 136,   0],\n",
       "        [ 45, 136,   0],\n",
       "        ...,\n",
       "        [ 45, 136,   0],\n",
       "        [ 45, 136,   0],\n",
       "        [ 45, 136,   0]],\n",
       "\n",
       "       [[ 45, 136,   0],\n",
       "        [ 45, 136,   0],\n",
       "        [ 45, 136,   0],\n",
       "        ...,\n",
       "        [ 45, 136,   0],\n",
       "        [ 45, 136,   0],\n",
       "        [ 45, 136,   0]]], dtype=uint8)"
      ]
     },
     "execution_count": 4,
     "metadata": {},
     "output_type": "execute_result"
    }
   ],
   "source": [
    "print(center_circle_radius)\n",
    "cv2.ellipse(img, ((center_circle_pos[0]+int(mergin/2),center_circle_pos[1]+int(mergin/2)), (center_circle_radius,center_circle_radius), 0),white, thickness=hutosa)"
   ]
  },
  {
   "cell_type": "markdown",
   "metadata": {},
   "source": [
    "# センターライン"
   ]
  },
  {
   "cell_type": "code",
   "execution_count": 5,
   "metadata": {},
   "outputs": [
    {
     "name": "stdout",
     "output_type": "stream",
     "text": [
      "35 5\n",
      "(35, 45)\n"
     ]
    },
    {
     "data": {
      "text/plain": [
       "array([[[ 45, 136,   0],\n",
       "        [ 45, 136,   0],\n",
       "        [ 45, 136,   0],\n",
       "        ...,\n",
       "        [ 45, 136,   0],\n",
       "        [ 45, 136,   0],\n",
       "        [ 45, 136,   0]],\n",
       "\n",
       "       [[ 45, 136,   0],\n",
       "        [ 45, 136,   0],\n",
       "        [ 45, 136,   0],\n",
       "        ...,\n",
       "        [ 45, 136,   0],\n",
       "        [ 45, 136,   0],\n",
       "        [ 45, 136,   0]],\n",
       "\n",
       "       [[ 45, 136,   0],\n",
       "        [ 45, 136,   0],\n",
       "        [ 45, 136,   0],\n",
       "        ...,\n",
       "        [ 45, 136,   0],\n",
       "        [ 45, 136,   0],\n",
       "        [ 45, 136,   0]],\n",
       "\n",
       "       ...,\n",
       "\n",
       "       [[ 45, 136,   0],\n",
       "        [ 45, 136,   0],\n",
       "        [ 45, 136,   0],\n",
       "        ...,\n",
       "        [ 45, 136,   0],\n",
       "        [ 45, 136,   0],\n",
       "        [ 45, 136,   0]],\n",
       "\n",
       "       [[ 45, 136,   0],\n",
       "        [ 45, 136,   0],\n",
       "        [ 45, 136,   0],\n",
       "        ...,\n",
       "        [ 45, 136,   0],\n",
       "        [ 45, 136,   0],\n",
       "        [ 45, 136,   0]],\n",
       "\n",
       "       [[ 45, 136,   0],\n",
       "        [ 45, 136,   0],\n",
       "        [ 45, 136,   0],\n",
       "        ...,\n",
       "        [ 45, 136,   0],\n",
       "        [ 45, 136,   0],\n",
       "        [ 45, 136,   0]]], dtype=uint8)"
      ]
     },
     "execution_count": 5,
     "metadata": {},
     "output_type": "execute_result"
    }
   ],
   "source": [
    "print(int(mergin/2)+int(field_w/2), int(mergin/2))\n",
    "print((int(mergin/2)+int(field_w/2), int(mergin/2)+int(field_h)))\n",
    "cv2.line(img, (int(mergin/2)+int(field_w/2), int(mergin/2)), (int(mergin/2)+int(field_w/2), int(mergin/2)+int(field_h)), white,thickness=hutosa)"
   ]
  },
  {
   "cell_type": "markdown",
   "metadata": {},
   "source": [
    "# ゴールライン1 "
   ]
  },
  {
   "cell_type": "code",
   "execution_count": 6,
   "metadata": {
    "scrolled": true
   },
   "outputs": [
    {
     "name": "stdout",
     "output_type": "stream",
     "text": [
      "(5, 8)\n",
      "(11, 41)\n"
     ]
    },
    {
     "data": {
      "text/plain": [
       "array([[[ 45, 136,   0],\n",
       "        [ 45, 136,   0],\n",
       "        [ 45, 136,   0],\n",
       "        ...,\n",
       "        [ 45, 136,   0],\n",
       "        [ 45, 136,   0],\n",
       "        [ 45, 136,   0]],\n",
       "\n",
       "       [[ 45, 136,   0],\n",
       "        [ 45, 136,   0],\n",
       "        [ 45, 136,   0],\n",
       "        ...,\n",
       "        [ 45, 136,   0],\n",
       "        [ 45, 136,   0],\n",
       "        [ 45, 136,   0]],\n",
       "\n",
       "       [[ 45, 136,   0],\n",
       "        [ 45, 136,   0],\n",
       "        [ 45, 136,   0],\n",
       "        ...,\n",
       "        [ 45, 136,   0],\n",
       "        [ 45, 136,   0],\n",
       "        [ 45, 136,   0]],\n",
       "\n",
       "       ...,\n",
       "\n",
       "       [[ 45, 136,   0],\n",
       "        [ 45, 136,   0],\n",
       "        [ 45, 136,   0],\n",
       "        ...,\n",
       "        [ 45, 136,   0],\n",
       "        [ 45, 136,   0],\n",
       "        [ 45, 136,   0]],\n",
       "\n",
       "       [[ 45, 136,   0],\n",
       "        [ 45, 136,   0],\n",
       "        [ 45, 136,   0],\n",
       "        ...,\n",
       "        [ 45, 136,   0],\n",
       "        [ 45, 136,   0],\n",
       "        [ 45, 136,   0]],\n",
       "\n",
       "       [[ 45, 136,   0],\n",
       "        [ 45, 136,   0],\n",
       "        [ 45, 136,   0],\n",
       "        ...,\n",
       "        [ 45, 136,   0],\n",
       "        [ 45, 136,   0],\n",
       "        [ 45, 136,   0]]], dtype=uint8)"
      ]
     },
     "execution_count": 6,
     "metadata": {},
     "output_type": "execute_result"
    }
   ],
   "source": [
    "print((int(mergin/2)+goal_line_left_upper[0], int(mergin/2)+goal_line_left_upper[1]))\n",
    "print((goal_line_right_lower[0]+int(mergin/2), goal_line_right_lower[1]+int(mergin/2)))\n",
    "cv2.rectangle(img, (int(mergin/2)+goal_line_left_upper[0], int(mergin/2)+goal_line_left_upper[1]), (goal_line_right_lower[0]+int(mergin/2), goal_line_right_lower[1]+int(mergin/2)), white,thickness=hutosa)\n",
    "#print(field_w+int(mergin/2)-int(mergin/2)+goal_line_left_upper[0],int(mergin/2)+goal_line_left_upper[1])\n",
    "#print((goal_line_right_lower[0]+int(mergin/2), goal_line_right_lower[1]+int(mergin/2)))\n",
    "#cv2.rectangle(img, (field_w+int(mergin/2)-int(mergin/2)+goal_line_left_upper[0],int(mergin/2)+goal_line_left_upper[1]), (goal_line_right_lower[0]+int(mergin/2), goal_line_right_lower[1]+int(mergin/2)), (255, 0, 0))"
   ]
  },
  {
   "cell_type": "markdown",
   "metadata": {},
   "source": [
    "# ゴールライン2"
   ]
  },
  {
   "cell_type": "code",
   "execution_count": 7,
   "metadata": {},
   "outputs": [
    {
     "name": "stdout",
     "output_type": "stream",
     "text": [
      "54 8\n",
      "(60, 41)\n"
     ]
    },
    {
     "data": {
      "text/plain": [
       "array([[[ 45, 136,   0],\n",
       "        [ 45, 136,   0],\n",
       "        [ 45, 136,   0],\n",
       "        ...,\n",
       "        [ 45, 136,   0],\n",
       "        [ 45, 136,   0],\n",
       "        [ 45, 136,   0]],\n",
       "\n",
       "       [[ 45, 136,   0],\n",
       "        [ 45, 136,   0],\n",
       "        [ 45, 136,   0],\n",
       "        ...,\n",
       "        [ 45, 136,   0],\n",
       "        [ 45, 136,   0],\n",
       "        [ 45, 136,   0]],\n",
       "\n",
       "       [[ 45, 136,   0],\n",
       "        [ 45, 136,   0],\n",
       "        [ 45, 136,   0],\n",
       "        ...,\n",
       "        [ 45, 136,   0],\n",
       "        [ 45, 136,   0],\n",
       "        [ 45, 136,   0]],\n",
       "\n",
       "       ...,\n",
       "\n",
       "       [[ 45, 136,   0],\n",
       "        [ 45, 136,   0],\n",
       "        [ 45, 136,   0],\n",
       "        ...,\n",
       "        [ 45, 136,   0],\n",
       "        [ 45, 136,   0],\n",
       "        [ 45, 136,   0]],\n",
       "\n",
       "       [[ 45, 136,   0],\n",
       "        [ 45, 136,   0],\n",
       "        [ 45, 136,   0],\n",
       "        ...,\n",
       "        [ 45, 136,   0],\n",
       "        [ 45, 136,   0],\n",
       "        [ 45, 136,   0]],\n",
       "\n",
       "       [[ 45, 136,   0],\n",
       "        [ 45, 136,   0],\n",
       "        [ 45, 136,   0],\n",
       "        ...,\n",
       "        [ 45, 136,   0],\n",
       "        [ 45, 136,   0],\n",
       "        [ 45, 136,   0]]], dtype=uint8)"
      ]
     },
     "execution_count": 7,
     "metadata": {},
     "output_type": "execute_result"
    }
   ],
   "source": [
    "print(field_w -goal_line_right_lower[0],  int(mergin/2)+goal_line_left_upper[1])\n",
    "print((field_w+int(mergin/2)-(int(mergin/2)), goal_line_right_lower[1]+int(mergin/2)))\n",
    "cv2.rectangle(img, (field_w -goal_line_right_lower[0]+int(mergin/2),  int(mergin/2)+goal_line_left_upper[1]), (field_w+int(mergin/2), goal_line_right_lower[1]+int(mergin/2)), white, thickness=hutosa)"
   ]
  },
  {
   "cell_type": "code",
   "execution_count": 8,
   "metadata": {},
   "outputs": [
    {
     "data": {
      "text/plain": [
       "True"
      ]
     },
     "execution_count": 8,
     "metadata": {},
     "output_type": "execute_result"
    }
   ],
   "source": [
    "cv2.imwrite('hukan.png',img)"
   ]
  },
  {
   "cell_type": "code",
   "execution_count": 9,
   "metadata": {},
   "outputs": [
    {
     "data": {
      "image/png": "[encoded data removed]",
      "text/plain": [
       "<Figure size 432x288 with 1 Axes>"
      ]
     },
     "metadata": {},
     "output_type": "display_data"
    }
   ],
   "source": [
    "plt.imshow(img)\n",
    "plt.show()"
   ]
  },
  {
   "cell_type": "code",
   "execution_count": null,
   "metadata": {},
   "outputs": [],
   "source": []
  }
 ],
 "metadata": {
  "kernelspec": {
   "display_name": "Python 3",
   "language": "python",
   "name": "python3"
  },
  "language_info": {
   "codemirror_mode": {
    "name": "ipython",
    "version": 3
   },
   "file_extension": ".py",
   "mimetype": "text/x-python",
   "name": "python",
   "nbconvert_exporter": "python",
   "pygments_lexer": "ipython3",
   "version": "3.5.3"
  }
 },
 "nbformat": 4,
 "nbformat_minor": 2
}
