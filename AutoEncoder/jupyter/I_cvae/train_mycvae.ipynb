{
 "cells": [
  {
   "cell_type": "markdown",
   "metadata": {},
   "source": []
  },
  {
   "cell_type": "code",
   "execution_count": 1,
   "metadata": {},
   "outputs": [
    {
     "name": "stdout",
     "output_type": "stream",
     "text": [
      "GPU: 0\n",
      "# dim z: 20\n",
      "# Minibatch-size: 1200\n",
      "# epoch: 10\n",
      "\n"
     ]
    },
    {
     "data": {
      "image/png": "[encoded data removed]",
      "text/plain": [
       "<Figure size 432x288 with 1 Axes>"
      ]
     },
     "metadata": {
      "needs_background": "light"
     },
     "output_type": "display_data"
    },
    {
     "name": "stdout",
     "output_type": "stream",
     "text": [
      "[1.]\n"
     ]
    },
    {
     "data": {
      "image/png": "[encoded data removed]",
      "text/plain": [
       "<Figure size 432x288 with 1 Axes>"
      ]
     },
     "metadata": {
      "needs_background": "light"
     },
     "output_type": "display_data"
    },
    {
     "name": "stdout",
     "output_type": "stream",
     "text": [
      "[9.]\n"
     ]
    },
    {
     "data": {
      "image/png": "[encoded data removed]",
      "text/plain": [
       "<Figure size 432x288 with 1 Axes>"
      ]
     },
     "metadata": {
      "needs_background": "light"
     },
     "output_type": "display_data"
    },
    {
     "name": "stdout",
     "output_type": "stream",
     "text": [
      "[0.]\n"
     ]
    },
    {
     "data": {
      "image/png": "[encoded data removed]",
      "text/plain": [
       "<Figure size 432x288 with 1 Axes>"
      ]
     },
     "metadata": {
      "needs_background": "light"
     },
     "output_type": "display_data"
    },
    {
     "name": "stdout",
     "output_type": "stream",
     "text": [
      "[7.]\n"
     ]
    },
    {
     "data": {
      "image/png": "[encoded data removed]",
      "text/plain": [
       "<Figure size 432x288 with 1 Axes>"
      ]
     },
     "metadata": {
      "needs_background": "light"
     },
     "output_type": "display_data"
    },
    {
     "name": "stdout",
     "output_type": "stream",
     "text": [
      "[1.]\n"
     ]
    },
    {
     "data": {
      "image/png": "[encoded data removed]",
      "text/plain": [
       "<Figure size 432x288 with 1 Axes>"
      ]
     },
     "metadata": {
      "needs_background": "light"
     },
     "output_type": "display_data"
    },
    {
     "name": "stdout",
     "output_type": "stream",
     "text": [
      "[3.]\n"
     ]
    },
    {
     "data": {
      "image/png": "[encoded data removed]",
      "text/plain": [
       "<Figure size 432x288 with 1 Axes>"
      ]
     },
     "metadata": {
      "needs_background": "light"
     },
     "output_type": "display_data"
    },
    {
     "name": "stdout",
     "output_type": "stream",
     "text": [
      "[1.]\n"
     ]
    },
    {
     "data": {
      "image/png": "[encoded data removed]",
      "text/plain": [
       "<Figure size 432x288 with 1 Axes>"
      ]
     },
     "metadata": {
      "needs_background": "light"
     },
     "output_type": "display_data"
    },
    {
     "name": "stdout",
     "output_type": "stream",
     "text": [
      "[5.]\n"
     ]
    },
    {
     "data": {
      "image/png": "[encoded data removed]",
      "text/plain": [
       "<Figure size 432x288 with 1 Axes>"
      ]
     },
     "metadata": {
      "needs_background": "light"
     },
     "output_type": "display_data"
    },
    {
     "name": "stdout",
     "output_type": "stream",
     "text": [
      "[4.]\n"
     ]
    },
    {
     "data": {
      "image/png": "[encoded data removed]",
      "text/plain": [
       "<Figure size 432x288 with 1 Axes>"
      ]
     },
     "metadata": {
      "needs_background": "light"
     },
     "output_type": "display_data"
    },
    {
     "name": "stdout",
     "output_type": "stream",
     "text": [
      "[4.]\n",
      "28\n"
     ]
    },
    {
     "ename": "RuntimeError",
     "evalue": "CUDA environment is not correctly set up\n(see https://github.com/chainer/chainer#installation).No module named 'cupy'",
     "output_type": "error",
     "traceback": [
      "\u001b[1;31m---------------------------------------------------------------------------\u001b[0m",
      "\u001b[1;31mRuntimeError\u001b[0m                              Traceback (most recent call last)",
      "\u001b[1;32m<ipython-input-1-f9e498ab8012>\u001b[0m in \u001b[0;36m<module>\u001b[1;34m\u001b[0m\n\u001b[0;32m    191\u001b[0m \u001b[1;33m\u001b[0m\u001b[0m\n\u001b[0;32m    192\u001b[0m \u001b[1;32mif\u001b[0m \u001b[0m__name__\u001b[0m \u001b[1;33m==\u001b[0m \u001b[1;34m'__main__'\u001b[0m\u001b[1;33m:\u001b[0m\u001b[1;33m\u001b[0m\u001b[0m\n\u001b[1;32m--> 193\u001b[1;33m     \u001b[0mmain\u001b[0m\u001b[1;33m(\u001b[0m\u001b[1;33m)\u001b[0m\u001b[1;33m\u001b[0m\u001b[0m\n\u001b[0m",
      "\u001b[1;32m<ipython-input-1-f9e498ab8012>\u001b[0m in \u001b[0;36mmain\u001b[1;34m()\u001b[0m\n\u001b[0;32m    117\u001b[0m     updater = training.updaters.StandardUpdater(\n\u001b[0;32m    118\u001b[0m         \u001b[0mtrain_iter\u001b[0m\u001b[1;33m,\u001b[0m \u001b[0moptimizer\u001b[0m\u001b[1;33m,\u001b[0m\u001b[1;33m\u001b[0m\u001b[0m\n\u001b[1;32m--> 119\u001b[1;33m         device=args.gpu, loss_func=model.get_loss_func())\n\u001b[0m\u001b[0;32m    120\u001b[0m \u001b[1;33m\u001b[0m\u001b[0m\n\u001b[0;32m    121\u001b[0m     \u001b[0mtrainer\u001b[0m \u001b[1;33m=\u001b[0m \u001b[0mtraining\u001b[0m\u001b[1;33m.\u001b[0m\u001b[0mTrainer\u001b[0m\u001b[1;33m(\u001b[0m\u001b[0mupdater\u001b[0m\u001b[1;33m,\u001b[0m \u001b[1;33m(\u001b[0m\u001b[0margs\u001b[0m\u001b[1;33m.\u001b[0m\u001b[0mepoch\u001b[0m\u001b[1;33m,\u001b[0m \u001b[1;34m'epoch'\u001b[0m\u001b[1;33m)\u001b[0m\u001b[1;33m,\u001b[0m \u001b[0mout\u001b[0m\u001b[1;33m=\u001b[0m\u001b[0margs\u001b[0m\u001b[1;33m.\u001b[0m\u001b[0mout\u001b[0m\u001b[1;33m)\u001b[0m\u001b[1;33m\u001b[0m\u001b[0m\n",
      "\u001b[1;32m~\\Anaconda3\\envs\\chainer4\\lib\\site-packages\\chainer\\training\\updaters\\standard_updater.py\u001b[0m in \u001b[0;36m__init__\u001b[1;34m(self, iterator, optimizer, converter, device, loss_func, loss_scale)\u001b[0m\n\u001b[0;32m     65\u001b[0m         \u001b[1;32mif\u001b[0m \u001b[0mdevice\u001b[0m \u001b[1;32mis\u001b[0m \u001b[1;32mnot\u001b[0m \u001b[1;32mNone\u001b[0m \u001b[1;32mand\u001b[0m \u001b[0mdevice\u001b[0m \u001b[1;33m>=\u001b[0m \u001b[1;36m0\u001b[0m\u001b[1;33m:\u001b[0m\u001b[1;33m\u001b[0m\u001b[0m\n\u001b[0;32m     66\u001b[0m             \u001b[1;32mfor\u001b[0m \u001b[0moptimizer\u001b[0m \u001b[1;32min\u001b[0m \u001b[0msix\u001b[0m\u001b[1;33m.\u001b[0m\u001b[0mitervalues\u001b[0m\u001b[1;33m(\u001b[0m\u001b[0mself\u001b[0m\u001b[1;33m.\u001b[0m\u001b[0m_optimizers\u001b[0m\u001b[1;33m)\u001b[0m\u001b[1;33m:\u001b[0m\u001b[1;33m\u001b[0m\u001b[0m\n\u001b[1;32m---> 67\u001b[1;33m                 \u001b[0moptimizer\u001b[0m\u001b[1;33m.\u001b[0m\u001b[0mtarget\u001b[0m\u001b[1;33m.\u001b[0m\u001b[0mto_gpu\u001b[0m\u001b[1;33m(\u001b[0m\u001b[0mdevice\u001b[0m\u001b[1;33m)\u001b[0m\u001b[1;33m\u001b[0m\u001b[0m\n\u001b[0m\u001b[0;32m     68\u001b[0m \u001b[1;33m\u001b[0m\u001b[0m\n\u001b[0;32m     69\u001b[0m         \u001b[0mself\u001b[0m\u001b[1;33m.\u001b[0m\u001b[0mconverter\u001b[0m \u001b[1;33m=\u001b[0m \u001b[0mconverter\u001b[0m\u001b[1;33m\u001b[0m\u001b[0m\n",
      "\u001b[1;32m~\\Anaconda3\\envs\\chainer4\\lib\\site-packages\\chainer\\link.py\u001b[0m in \u001b[0;36mto_gpu\u001b[1;34m(self, device)\u001b[0m\n\u001b[0;32m    880\u001b[0m \u001b[1;33m\u001b[0m\u001b[0m\n\u001b[0;32m    881\u001b[0m     \u001b[1;32mdef\u001b[0m \u001b[0mto_gpu\u001b[0m\u001b[1;33m(\u001b[0m\u001b[0mself\u001b[0m\u001b[1;33m,\u001b[0m \u001b[0mdevice\u001b[0m\u001b[1;33m=\u001b[0m\u001b[1;32mNone\u001b[0m\u001b[1;33m)\u001b[0m\u001b[1;33m:\u001b[0m\u001b[1;33m\u001b[0m\u001b[0m\n\u001b[1;32m--> 882\u001b[1;33m         \u001b[1;32mwith\u001b[0m \u001b[0mcuda\u001b[0m\u001b[1;33m.\u001b[0m\u001b[0m_get_device\u001b[0m\u001b[1;33m(\u001b[0m\u001b[0mdevice\u001b[0m\u001b[1;33m)\u001b[0m\u001b[1;33m:\u001b[0m\u001b[1;33m\u001b[0m\u001b[0m\n\u001b[0m\u001b[0;32m    883\u001b[0m             \u001b[0msuper\u001b[0m\u001b[1;33m(\u001b[0m\u001b[0mChain\u001b[0m\u001b[1;33m,\u001b[0m \u001b[0mself\u001b[0m\u001b[1;33m)\u001b[0m\u001b[1;33m.\u001b[0m\u001b[0mto_gpu\u001b[0m\u001b[1;33m(\u001b[0m\u001b[1;33m)\u001b[0m\u001b[1;33m\u001b[0m\u001b[0m\n\u001b[0;32m    884\u001b[0m             \u001b[0md\u001b[0m \u001b[1;33m=\u001b[0m \u001b[0mself\u001b[0m\u001b[1;33m.\u001b[0m\u001b[0m__dict__\u001b[0m\u001b[1;33m\u001b[0m\u001b[0m\n",
      "\u001b[1;32m~\\Anaconda3\\envs\\chainer4\\lib\\site-packages\\chainer\\backends\\cuda.py\u001b[0m in \u001b[0;36m_get_device\u001b[1;34m(*args)\u001b[0m\n\u001b[0;32m    227\u001b[0m     \u001b[1;32mfor\u001b[0m \u001b[0marg\u001b[0m \u001b[1;32min\u001b[0m \u001b[0margs\u001b[0m\u001b[1;33m:\u001b[0m\u001b[1;33m\u001b[0m\u001b[0m\n\u001b[0;32m    228\u001b[0m         \u001b[1;32mif\u001b[0m \u001b[0mtype\u001b[0m\u001b[1;33m(\u001b[0m\u001b[0marg\u001b[0m\u001b[1;33m)\u001b[0m \u001b[1;32mis\u001b[0m \u001b[1;32mnot\u001b[0m \u001b[0mbool\u001b[0m \u001b[1;32mand\u001b[0m \u001b[0misinstance\u001b[0m\u001b[1;33m(\u001b[0m\u001b[0marg\u001b[0m\u001b[1;33m,\u001b[0m \u001b[0m_integer_types\u001b[0m\u001b[1;33m)\u001b[0m\u001b[1;33m:\u001b[0m\u001b[1;33m\u001b[0m\u001b[0m\n\u001b[1;32m--> 229\u001b[1;33m             \u001b[0mcheck_cuda_available\u001b[0m\u001b[1;33m(\u001b[0m\u001b[1;33m)\u001b[0m\u001b[1;33m\u001b[0m\u001b[0m\n\u001b[0m\u001b[0;32m    230\u001b[0m             \u001b[1;32mreturn\u001b[0m \u001b[0mDevice\u001b[0m\u001b[1;33m(\u001b[0m\u001b[0marg\u001b[0m\u001b[1;33m)\u001b[0m\u001b[1;33m\u001b[0m\u001b[0m\n\u001b[0;32m    231\u001b[0m         \u001b[1;32mif\u001b[0m \u001b[0misinstance\u001b[0m\u001b[1;33m(\u001b[0m\u001b[0marg\u001b[0m\u001b[1;33m,\u001b[0m \u001b[0mndarray\u001b[0m\u001b[1;33m)\u001b[0m\u001b[1;33m:\u001b[0m\u001b[1;33m\u001b[0m\u001b[0m\n",
      "\u001b[1;32m~\\Anaconda3\\envs\\chainer4\\lib\\site-packages\\chainer\\backends\\cuda.py\u001b[0m in \u001b[0;36mcheck_cuda_available\u001b[1;34m()\u001b[0m\n\u001b[0;32m     88\u001b[0m                '(see https://github.com/chainer/chainer#installation).')\n\u001b[0;32m     89\u001b[0m         \u001b[0mmsg\u001b[0m \u001b[1;33m+=\u001b[0m \u001b[0mstr\u001b[0m\u001b[1;33m(\u001b[0m\u001b[0m_resolution_error\u001b[0m\u001b[1;33m)\u001b[0m\u001b[1;33m\u001b[0m\u001b[0m\n\u001b[1;32m---> 90\u001b[1;33m         \u001b[1;32mraise\u001b[0m \u001b[0mRuntimeError\u001b[0m\u001b[1;33m(\u001b[0m\u001b[0mmsg\u001b[0m\u001b[1;33m)\u001b[0m\u001b[1;33m\u001b[0m\u001b[0m\n\u001b[0m\u001b[0;32m     91\u001b[0m     if (not cudnn_enabled and\n\u001b[0;32m     92\u001b[0m             \u001b[1;32mnot\u001b[0m \u001b[0m_cudnn_disabled_by_user\u001b[0m \u001b[1;32mand\u001b[0m\u001b[1;33m\u001b[0m\u001b[0m\n",
      "\u001b[1;31mRuntimeError\u001b[0m: CUDA environment is not correctly set up\n(see https://github.com/chainer/chainer#installation).No module named 'cupy'"
     ]
    }
   ],
   "source": [
    "\"\"\"CVAE on MNIST\n",
    "\"\"\"\n",
    "import argparse\n",
    "import os\n",
    "\n",
    "import chainer\n",
    "import pickle\n",
    "import matplotlib.pyplot as plt\n",
    "from chainer import training\n",
    "from chainer.training import extensions\n",
    "from PIL import Image, ImageDraw\n",
    "import numpy as np\n",
    "\n",
    "import net \n",
    "import make_random_mnist\n",
    "import make_random_selfdata\n",
    "from chainer import serializers\n",
    "%matplotlib inline\n",
    "\n",
    "\n",
    "NLABELDIM = 1\n",
    "NZDIM = 2\n",
    "\n",
    "def load_save_random_dataset_withlabel(fname, n):\n",
    "    dataset = make_random_mnist.MakeRandomMNIST()\n",
    "    if os.path.exists(fname):\n",
    "        with open(fname, mode='rb') as f:\n",
    "            ret = pickle.load(f)\n",
    "            return ret\n",
    "    v = dataset.get_random_dataset_with_label(n)\n",
    "    with open(fname, mode='wb') as f:\n",
    "        pickle.dump(v, f)\n",
    "        return v\n",
    "\n",
    "def dispImage(img_vec):\n",
    "    #title = 'Label number is ('+ str(label_x) + ',' + str(label_y) + ')' \n",
    "    pixels = (img_vec * 256).reshape((28, 28))\n",
    "    plt.imshow(pixels, cmap='gray')\n",
    "    plt.axis(\"off\")\n",
    "    #plt.title(title)\n",
    "    plt.show()\n",
    "\n",
    "def main():\n",
    "    global NLABELDIM, NZDIM\n",
    "    parser = argparse.ArgumentParser(description='Chainer example: VAE')\n",
    "    parser.add_argument('--initmodel', '-m', default='',\n",
    "                        help='Initialize the model from given file')\n",
    "    parser.add_argument('--resume', '-r', default='',\n",
    "                        help='Resume the optimization from snapshot')\n",
    "    parser.add_argument('--gpu', '-g', default=-1, type=int,\n",
    "                        help='GPU ID (negative value indicates CPU)')\n",
    "    parser.add_argument('--out', '-o', default='result',\n",
    "                        help='Directory to output the result')\n",
    "    parser.add_argument('--epoch', '-e', default=10, type=int,\n",
    "                        help='number of epochs to learn')\n",
    "    parser.add_argument('--dimz', '-z', default=20, type=int,\n",
    "                        help='dimention of encoded vector')\n",
    "    parser.add_argument('--batchsize', '-b', type=int, default=1200,\n",
    "                        help='learning minibatch size')\n",
    "    parser.add_argument('--test', action='store_true',\n",
    "                        help='Use tiny datasets for quick tests')\n",
    "    args = parser.parse_args(args=['-g 0'])\n",
    "\n",
    "    print('GPU: {}'.format(args.gpu))\n",
    "    print('# dim z: {}'.format(args.dimz))\n",
    "    print('# Minibatch-size: {}'.format(args.batchsize))\n",
    "    print('# epoch: {}'.format(args.epoch))\n",
    "    print('')\n",
    "\n",
    "\n",
    "    # Load the MNIST dataset\n",
    "    #train, test = chainer.datasets.get_mnist()\n",
    "    #train = load_save_random_dataset_withlabel('random_wlabel_train.pickle', 60000)\n",
    "    #test = load_save_random_dataset_withlabel('random_wlabel_test.pickle', 10000)\n",
    "    \n",
    "    #dataset = make_random_mnist.MakeRandomMNIST()\n",
    "    #train = dataset.get_random_dataset_with_hot_vector(60000)\n",
    "    #test = dataset.get_random_dataset_with_hot_vector(1000)\n",
    "\n",
    "    #train = load_save_random_dataset_withlabel('imu_axislabel_train.pickle', 10000)\n",
    "    #test = load_save_random_dataset_withlabel('inu_axislabel_test.pickle', 6000)\n",
    "    \n",
    "    img = '../images/inu.png'\n",
    "    dataset = make_random_selfdata.MakeRandomSelfdata(img)\n",
    "    train = dataset.get_random_dataset_with_label(3000)\n",
    "    test = dataset.get_random_dataset_with_label(1000)\n",
    "    \n",
    "    for t in range(10):\n",
    "        dispImage(train[t][0])\n",
    "        print(train[t][1])\n",
    "    \n",
    "    NLABELDIM = len('*********' + str(train[0][1]) + '***************')\n",
    "    print(NLABELDIM)\n",
    "\n",
    "    if args.test:\n",
    "        train, _ = chainer.datasets.split_dataset(train, 100)\n",
    "        test, _ = chainer.datasets.split_dataset(test, 100)\n",
    "\n",
    "    train_iter = chainer.iterators.SerialIterator(train, args.batchsize)\n",
    "    test_iter = chainer.iterators.SerialIterator(test, args.batchsize,\n",
    "                                                 repeat=False, shuffle=False)\n",
    "\n",
    "    # Prepare CVAE model, defined in net.py\n",
    "    NZDIM = args.dimz\n",
    "    model = net.MyCVAE(784, args.dimz, 500, NLABELDIM)\n",
    "\n",
    "    # Setup an optimizer\n",
    "    optimizer = chainer.optimizers.Adam()\n",
    "    optimizer.setup(model)\n",
    "\n",
    "    # Initialize\n",
    "    if args.initmodel:\n",
    "        chainer.serializers.load_npz(args.initmodel, model)\n",
    "\n",
    "    # Set up an updater. StandardUpdater can explicitly specify a loss function\n",
    "    # used in the training with 'loss_func' option\n",
    "    updater = training.updaters.StandardUpdater(\n",
    "        train_iter, optimizer,\n",
    "        device=args.gpu, loss_func=model.get_loss_func())\n",
    "\n",
    "    trainer = training.Trainer(updater, (args.epoch, 'epoch'), out=args.out)\n",
    "    trainer.extend(extensions.Evaluator(test_iter, model, device=args.gpu,\n",
    "                                        eval_func=model.get_loss_func(k=10)))\n",
    "    trainer.extend(extensions.dump_graph('main/loss'))\n",
    "    trainer.extend(extensions.snapshot(), trigger=(20, 'epoch'))\n",
    "    trainer.extend(extensions.LogReport())\n",
    "    trainer.extend(extensions.PrintReport(\n",
    "        ['epoch', 'main/loss', 'validation/main/loss',\n",
    "         'main/rec_loss', 'validation/main/rec_loss', 'elapsed_time']))\n",
    "    #trainer.extend(extensions.ProgressBar())\n",
    "\n",
    "    if args.resume:\n",
    "        chainer.serializers.load_npz(args.resume, trainer)\n",
    "\n",
    "    # Run the training\n",
    "    trainer.run()\n",
    "\n",
    "    # Visualize the results\n",
    "    def save_images(x, filename):\n",
    "        import matplotlib.pyplot as plt\n",
    "        fig, ax = plt.subplots(3, 3, figsize=(9, 9), dpi=100)\n",
    "        for ai, xi in zip(ax.flatten(), x):\n",
    "            ai.imshow(xi.reshape(28, 28))\n",
    "        fig.savefig(filename)\n",
    "\n",
    "    model.to_cpu()\n",
    "    serializers.save_npz(\"mymodel_final.npz\", model)\n",
    "\n",
    "    train_ind = [1, 3, 5, 10, 2, 0, 13, 15, 17]\n",
    "    xin = np.empty((0, 28*28), np.float32)\n",
    "    xout = np.empty((0, 28*28), np.float32)\n",
    "    for ind in train_ind:\n",
    "        x, t = train[ind]\n",
    "        x = np.expand_dims(x, axis=0)\n",
    "        t = np.expand_dims(t.astype(np.float32), axis=0)\n",
    "        #t = np.eye(NLABELDIM, dtype=np.float32)[t * NLABELDIM]\n",
    "        with chainer.using_config('train', False), chainer.no_backprop_mode():\n",
    "            x1 = model(x, np.expand_dims(t, axis=0))\n",
    "            xin = np.append(xin, x, axis=0)\n",
    "            xout = np.append(xout, x1.data, axis=0)\n",
    "\n",
    "    save_images(xin, os.path.join(args.out, 'train'))\n",
    "    save_images(xout, os.path.join(args.out, 'train_reconstructed'))\n",
    "\n",
    "    test_ind = [3, 2, 1, 18, 4, 8, 11, 17, 61]\n",
    "    xin = np.empty((0, 28*28), np.float32)\n",
    "    xout = np.empty((0, 28*28), np.float32)\n",
    "    for ind in test_ind:\n",
    "        x, t = test[ind]\n",
    "        x = np.expand_dims(x, axis=0)\n",
    "        t = np.expand_dims(t.astype(np.float32), axis=0)\n",
    "        #t = np.eye(NLABELDIM, dtype=np.float32)[t * NLABELDIM]\n",
    "        with chainer.using_config('train', False), chainer.no_backprop_mode():\n",
    "            x1 = model(x, np.expand_dims(t, axis=0))\n",
    "            xin = np.append(xin, x, axis=0)\n",
    "            xout = np.append(xout, x1.data, axis=0)\n",
    "\n",
    "    save_images(xin, os.path.join(args.out, 'test'))\n",
    "    save_images(xout, os.path.join(args.out, 'test_reconstructed'))\n",
    "\n",
    "    # draw images from randomly sampled z\n",
    "    z = chainer.Variable(np.random.normal(0, 1, (9, args.dimz)).astype(np.float32))\n",
    "    #z = chainer.Variable(np.zeros((9, args.dimz), dtype=np.float32))\n",
    "\n",
    "    #values = np.eye(NLABELDIM, dtype=np.float32)[range(9)]\n",
    "    labels = np.linspace(0, 0.9, 9, dtype=np.float32) * NLABELDIM\n",
    "    labels = labels.astype(dtype=np.int32)\n",
    "    values = np.eye(NLABELDIM, dtype=np.float32)[labels]\n",
    "    x = model.decode(z, np.expand_dims(values, axis=1))\n",
    "    save_images(x.data, 'sampled')\n",
    "    \n",
    "if __name__ == '__main__':\n",
    "    main()"
   ]
  },
  {
   "cell_type": "code",
   "execution_count": null,
   "metadata": {},
   "outputs": [],
   "source": [
    "# Visualize the results\n",
    "def save_images(x, filename):\n",
    "    import matplotlib.pyplot as plt\n",
    "    fig, ax = plt.subplots(3, 3, figsize=(9, 9), dpi=100)\n",
    "    for ai, xi in zip(ax.flatten(), x):\n",
    "        ai.imshow(xi.reshape(28, 28))\n",
    "    fig.savefig(filename)\n",
    "\n",
    "model = net.MyCVAE(784, NZDIM, 500, NLABELDIM)\n",
    "serializers.load_npz(\"mymodel_final.npz\", model)\n",
    "\n",
    "# draw images from randomly sampled z\n",
    "z = chainer.Variable(np.random.normal(0, 1, (9, NZDIM)).astype(np.float32))\n",
    "z = chainer.Variable(np.zeros((9, NZDIM), dtype=np.float32))\n",
    "\n",
    "\n",
    "#values = np.eye(NLABELDIM, dtype=np.float32)[range(9)]\n",
    "#pos = np.linspace(0.05, 0.85, 9, dtype=np.float32)\n",
    "pos = np.linspace(0.1, 0.9, 9, dtype=np.float32)\n",
    "print(pos)\n",
    "labels = pos * NLABELDIM\n",
    "\n",
    "labels = labels.astype(dtype=np.int32)\n",
    "values = np.eye(NLABELDIM, dtype=np.float32)[labels]\n",
    "x = model.decode(z, np.expand_dims(values, axis=1))\n",
    "save_images(x.data, 'sampled')"
   ]
  },
  {
   "cell_type": "code",
   "execution_count": null,
   "metadata": {},
   "outputs": [],
   "source": [
    "\n"
   ]
  },
  {
   "cell_type": "code",
   "execution_count": null,
   "metadata": {},
   "outputs": [],
   "source": []
  },
  {
   "cell_type": "code",
   "execution_count": null,
   "metadata": {},
   "outputs": [],
   "source": [
    "#!/usr/bin/env python\n",
    "\"\"\"Chainer example: train a VAE on MNIST\n",
    "\"\"\"\n",
    "import argparse\n",
    "import os\n",
    "\n",
    "import chainer\n",
    "from chainer import training\n",
    "from chainer.training import extensions\n",
    "import numpy as np\n",
    "\n",
    "import net\n",
    "import make_random_mnist\n",
    "import pickle\n",
    "\n",
    "def load_random_dataset_nolabel():\n",
    "    with open('random_dataset.pickle', mode='rb') as f:\n",
    "        ret = pickle.load(f)\n",
    "        return ret\n",
    "\n",
    "def save_random_dataset_nolabel( v):\n",
    "    with open('random_dataset.pickle', mode='wb') as f:\n",
    "        pickle.dump(v, f)\n",
    "        \n",
    "def main():\n",
    "    parser = argparse.ArgumentParser(description='Chainer example: VAE')\n",
    "    parser.add_argument('--initmodel', '-m', default='',\n",
    "                        help='Initialize the model from given file')\n",
    "    parser.add_argument('--resume', '-r', default='',\n",
    "                        help='Resume the optimization from snapshot')\n",
    "    parser.add_argument('--gpu', '-g', default=-1, type=int,\n",
    "                        help='GPU ID (negative value indicates CPU)')\n",
    "    parser.add_argument('--out', '-o', default='result',\n",
    "                        help='Directory to output the result')\n",
    "    parser.add_argument('--epoch', '-e', default=100, type=int,\n",
    "                        help='number of epochs to learn')\n",
    "    parser.add_argument('--dimz', '-z', default=20, type=int,\n",
    "                        help='dimention of encoded vector')\n",
    "    parser.add_argument('--batchsize', '-b', type=int, default=1200,\n",
    "                        help='learning minibatch size')\n",
    "    parser.add_argument('--test', action='store_true',\n",
    "                        help='Use tiny datasets for quick tests')\n",
    "    args = parser.parse_args(args = ['-g 0'])\n",
    "\n",
    "    print('GPU: {}'.format(args.gpu))\n",
    "    print('# dim z: {}'.format(args.dimz))\n",
    "    print('# Minibatch-size: {}'.format(args.batchsize))\n",
    "    print('# epoch: {}'.format(args.epoch))\n",
    "    print('')\n",
    "\n",
    "    # Prepare VAE model, defined in net.py\n",
    "    model = net.VAE(784, args.dimz, 2000)\n",
    "\n",
    "    # Setup an optimizer\n",
    "    optimizer = chainer.optimizers.Adam()\n",
    "    optimizer.setup(model)\n",
    "\n",
    "    # Initialize\n",
    "    if args.initmodel:\n",
    "        chainer.serializers.load_npz(args.initmodel, model)\n",
    "\n",
    "    # Load the MNIST dataset\n",
    "    train, test = chainer.datasets.get_mnist(withlabel=False)\n",
    "    dataset = make_random_mnist.MakeRandomMNIST()\n",
    "    #train = dataset.get_random_dataset_nolabel(60000)\n",
    "    #save_random_dataset_nolabel(train)\n",
    "    train = load_random_dataset_nolabel()\n",
    "    print(train.shape)\n",
    "\n",
    "    if args.test:\n",
    "        train, _ = chainer.datasets.split_dataset(train, 100)\n",
    "        test, _ = chainer.datasets.split_dataset(test, 100)\n",
    "\n",
    "    train_iter = chainer.iterators.SerialIterator(train, args.batchsize)\n",
    "    test_iter = chainer.iterators.SerialIterator(test, args.batchsize,\n",
    "                                                 repeat=False, shuffle=False)\n",
    "\n",
    "    # Set up an updater. StandardUpdater can explicitly specify a loss function\n",
    "    # used in the training with 'loss_func' option\n",
    "    updater = training.updaters.StandardUpdater(\n",
    "        train_iter, optimizer,\n",
    "        device=args.gpu, loss_func=model.get_loss_func())\n",
    "    #updater = training.updaters.ParallelUpdater(train_iter, optimizer, devices={'main': 0, 'second': 1})\n",
    "\n",
    "    trainer = training.Trainer(updater, (args.epoch, 'epoch'), out=args.out)\n",
    "    trainer.extend(extensions.Evaluator(test_iter, model, device=args.gpu,\n",
    "                                        eval_func=model.get_loss_func(k=10)))\n",
    "    trainer.extend(extensions.dump_graph('main/loss'))\n",
    "    trainer.extend(extensions.snapshot(), trigger=(args.epoch, 'epoch'))\n",
    "    trainer.extend(extensions.LogReport())\n",
    "    trainer.extend(extensions.PrintReport(\n",
    "        ['epoch', 'main/loss', 'validation/main/loss',\n",
    "         'main/rec_loss', 'validation/main/rec_loss', 'elapsed_time']))\n",
    "    #trainer.extend(extensions.ProgressBar())\n",
    "\n",
    "    if args.resume:\n",
    "        chainer.serializers.load_npz(args.resume, trainer)\n",
    "\n",
    "    # Run the training\n",
    "    trainer.run()\n",
    "\n",
    "    # Visualize the results\n",
    "    def save_images(x, filename):\n",
    "        import matplotlib.pyplot as plt\n",
    "        fig, ax = plt.subplots(3, 3, figsize=(9, 9), dpi=100)\n",
    "        for ai, xi in zip(ax.flatten(), x):\n",
    "            ai.imshow(xi.reshape(28, 28))\n",
    "        fig.savefig(filename)\n",
    "\n",
    "    model.to_cpu()\n",
    "    train_ind = [1, 3, 5, 10, 2, 0, 13, 15, 17]\n",
    "    x = chainer.Variable(np.asarray(train[train_ind]))\n",
    "    with chainer.using_config('train', False), chainer.no_backprop_mode():\n",
    "        x1 = model.decode(model.encode(x)[0])\n",
    "    save_images(x.data, os.path.join(args.out, 'train'))\n",
    "    save_images(x1.data, os.path.join(args.out, 'train_reconstructed'))\n",
    "\n",
    "    test_ind = [3, 2, 1, 18, 4, 8, 11, 17, 61]\n",
    "    x = chainer.Variable(np.asarray(test[test_ind]))\n",
    "    with chainer.using_config('train', False), chainer.no_backprop_mode():\n",
    "        x1 = model.decode(model.encode(x)[0])\n",
    "    save_images(x.data, os.path.join(args.out, 'test'))\n",
    "    save_images(x1.data, os.path.join(args.out, 'test_reconstructed'))\n",
    "\n",
    "    # draw images from randomly sampled z\n",
    "    z = chainer.Variable(\n",
    "        np.random.normal(0, 1, (9, args.dimz)).astype(np.float32))\n",
    "    x = model.decode(z)\n",
    "    save_images(x.data, os.path.join(args.out, 'sampled'))\n",
    "\n",
    "\n",
    "if __name__ == '__main__':\n",
    "    main()\n"
   ]
  }
 ],
 "metadata": {
  "kernelspec": {
   "display_name": "Python 3",
   "language": "python",
   "name": "python3"
  },
  "language_info": {
   "codemirror_mode": {
    "name": "ipython",
    "version": 3
   },
   "file_extension": ".py",
   "mimetype": "text/x-python",
   "name": "python",
   "nbconvert_exporter": "python",
   "pygments_lexer": "ipython3",
   "version": "3.6.6"
  }
 },
 "nbformat": 4,
 "nbformat_minor": 2
}
