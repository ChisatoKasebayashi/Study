{
 "cells": [
  {
   "cell_type": "code",
   "execution_count": 1,
   "metadata": {},
   "outputs": [],
   "source": [
    "import argparse\n",
    "import os\n",
    "import datetime\n",
    "import chainer\n",
    "import pickle\n",
    "import matplotlib.pyplot as plt\n",
    "from chainer import training\n",
    "from chainer.training import extensions\n",
    "from PIL import Image, ImageDraw\n",
    "import numpy as np\n",
    "import cv2\n",
    "\n",
    "import make_random_selfdata\n",
    "from chainer import serializers\n",
    "%matplotlib inline"
   ]
  },
  {
   "cell_type": "code",
   "execution_count": 2,
   "metadata": {},
   "outputs": [
    {
     "data": {
      "image/png": "[encoded data removed]",
      "text/plain": [
       "<Figure size 432x288 with 1 Axes>"
      ]
     },
     "metadata": {},
     "output_type": "display_data"
    }
   ],
   "source": [
    "img = '../images/field_zyouge_sayuu_hanten.png'\n",
    "dataset = make_random_selfdata.MakeRandomSelfdata(img)\n",
    "\n",
    "num = 200000\n",
    "\n",
    "train, train_debug_data = dataset.get_random_dataset_for_rcvae_with_2d_GentleOnehotPosMap_and_2d_GentleOnehotSinCos(num,0)\n",
    "#test, test_debug_data = dataset.get_random_dataset_for_rcvae_with_2d_GentleOnehotPosMap_and_2d_GentleOnehotSinCos(num,1)\n",
    "\n",
    "img ,label = train[0]\n",
    "img  = np.reshape(label, (28,28))\n",
    "plt.imshow(img)\n",
    "plt.show()"
   ]
  },
  {
   "cell_type": "code",
   "execution_count": 3,
   "metadata": {},
   "outputs": [],
   "source": [
    "func_name = 'for_rcvae_with_2d_GentleOnehotPosMap_and_2d_GentleOnehotSinCos'\n",
    "deg_range = dataset.rotation_angle\n",
    "name  = func_name + '_' + str(deg_range)"
   ]
  },
  {
   "cell_type": "code",
   "execution_count": 4,
   "metadata": {},
   "outputs": [],
   "source": [
    "def save_dataset(data, num, f): # 0:訓練データ　1:テストデータ\n",
    "    dir_name = name\n",
    "    if not os.path.exists(dir_name):\n",
    "        os.mkdir(dir_name)\n",
    "    else:\n",
    "        now = datetime.datetime.now()\n",
    "        dir_name = dir_name + '{0:%Y%m%d%H%M}'.format(now)\n",
    "        os.mkdir(dir_name)\n",
    "    if(f==0):\n",
    "        dir_name = dir_name+'/'+'train'\n",
    "        os.mkdir(dir_name)\n",
    "    if(f==1):\n",
    "        dir_name = dir_name+'/'+'test'\n",
    "        os.mkdir(dir_name)\n",
    "    for n in range(num):\n",
    "        image_name = '{0:09d}'.format(n)\n",
    "        img = train[n][0]\n",
    "        img_uint = img *255\n",
    "        img_uint = img_uint.astype(np.uint8)\n",
    "        save_dir = './'+dir_name + '/'+ image_name  +'.jpg'\n",
    "        cv2.imwrite(save_dir, img_uint)\n",
    "            \n",
    "        label = train[n][1]\n",
    "        label_uint = label *255\n",
    "        label_uint = label_uint.astype(np.uint8)\n",
    "        save_dir = './'+dir_name + '/'+ image_name + '_label' +'.jpg'\n",
    "        cv2.imwrite(save_dir, label_uint)\n"
   ]
  },
  {
   "cell_type": "code",
   "execution_count": 5,
   "metadata": {},
   "outputs": [],
   "source": [
    "save_dataset(train, num, 0)"
   ]
  },
  {
   "cell_type": "code",
   "execution_count": 6,
   "metadata": {},
   "outputs": [],
   "source": [
    "def read_dataset(data_dir, num, image_dim, label_dim): # 0:訓練データ　1:テストデータ\n",
    "    images = np.zeros((num, image_dim), dtype=np.float32)\n",
    "    labels = np.zeros((num, label_dim), dtype=np.float32)\n",
    "    for n in range(num):\n",
    "        img = data_dir + '{0:09d}'.format(n) + '.jpg'\n",
    "        images[n, :] = cv2.imread(img, cv2.IMREAD_GRAYSCALE).flatten()\n",
    "        label = data_dir + '{0:09d}'.format(n) + '_label'+ '.jpg'\n",
    "        labels[n, :] = cv2.imread(label, cv2.IMREAD_GRAYSCALE).flatten()\n",
    "    return chainer.datasets.TupleDataset(images, labels)"
   ]
  },
  {
   "cell_type": "code",
   "execution_count": 13,
   "metadata": {},
   "outputs": [
    {
     "name": "stdout",
     "output_type": "stream",
     "text": [
      "[[ 75.  96. 103. 108. 140. 152. 166. 174. 185. 200. 208. 220. 232. 242.\n",
      "  241. 243. 248. 249. 249. 249. 251. 253. 254. 255. 255. 253. 212. 159.]\n",
      " [141. 190. 216. 226. 245. 246. 248. 248. 249. 251. 252. 253. 254. 255.\n",
      "  255. 255. 255. 255. 255. 255. 255. 255. 255. 255. 255. 253. 225. 159.]\n",
      " [247. 251. 253. 253. 255. 255. 255. 255. 255. 255. 255. 255. 255. 255.\n",
      "  255. 255. 255. 255. 255. 255. 255. 255. 255. 255. 255. 253. 232. 159.]\n",
      " [254. 255. 255. 255. 255. 255. 255. 255. 255. 255. 255. 255. 255. 255.\n",
      "  255. 255. 255. 254. 254. 254. 254. 253. 254. 253. 249. 244. 229. 162.]\n",
      " [255. 255. 255. 255. 255. 255. 255. 255. 255. 255. 255. 255. 255. 255.\n",
      "  255. 253. 251. 239. 234. 230. 226. 223. 217. 213. 200. 184. 168. 134.]\n",
      " [255. 255. 255. 255. 255. 255. 255. 255. 255. 255. 255. 255. 255. 255.\n",
      "  251. 220. 181. 161. 148. 135. 117. 104.  91.  74.  89. 107. 127. 136.]\n",
      " [255. 255. 255. 255. 255. 255. 255. 255. 255. 255. 255. 255. 255. 253.\n",
      "  221.  95.  61. 122. 154. 170. 185. 208. 224. 245. 246. 247. 248. 238.]\n",
      " [255. 255. 255. 255. 255. 255. 255. 255. 255. 255. 255. 255. 255. 254.\n",
      "  224. 114. 189. 246. 250. 251. 252. 253. 254. 255. 255. 255. 255. 246.]\n",
      " [255. 255. 255. 255. 255. 255. 255. 255. 255. 255. 255. 255. 255. 255.\n",
      "  228. 126. 181. 251. 255. 255. 255. 254. 255. 255. 255. 255. 255. 246.]\n",
      " [255. 255. 255. 255. 255. 255. 255. 255. 255. 255. 255. 255. 255. 254.\n",
      "  229. 127. 147. 248. 255. 255. 255. 255. 255. 255. 254. 255. 255. 244.]\n",
      " [255. 255. 255. 255. 255. 255. 255. 255. 255. 255. 255. 254. 255. 253.\n",
      "  207.  84.  94. 241. 254. 255. 255. 255. 255. 255. 255. 255. 254. 240.]\n",
      " [255. 255. 255. 255. 255. 255. 255. 255. 255. 255. 255. 255. 255. 251.\n",
      "  196.  67.  84. 237. 255. 255. 255. 255. 255. 255. 254. 255. 254. 243.]\n",
      " [255. 255. 255. 255. 255. 255. 255. 255. 255. 255. 255. 255. 255. 252.\n",
      "  212.  95. 101. 243. 254. 255. 255. 255. 255. 255. 255. 255. 255. 248.]\n",
      " [255. 255. 255. 255. 255. 255. 255. 255. 255. 255. 255. 255. 255. 254.\n",
      "  235. 122.  61. 241. 255. 255. 255. 255. 255. 255. 255. 255. 255. 252.]\n",
      " [255. 255. 255. 255. 255. 255. 255. 255. 255. 255. 255. 255. 255. 255.\n",
      "  246. 132.  42. 240. 255. 255. 255. 255. 255. 255. 255. 255. 254. 254.]\n",
      " [255. 255. 255. 255. 255. 255. 255. 255. 255. 255. 255. 255. 255. 255.\n",
      "  247. 146.  53. 214. 253. 255. 255. 255. 255. 255. 255. 255. 255. 253.]\n",
      " [255. 255. 255. 255. 255. 255. 255. 255. 255. 255. 255. 255. 255. 255.\n",
      "  249. 157.  62. 196. 253. 255. 255. 255. 255. 255. 255. 255. 255. 254.]\n",
      " [239. 255. 255. 255. 255. 255. 255. 255. 255. 255. 255. 255. 255. 255.\n",
      "  249. 168.  70. 171. 250. 255. 255. 255. 255. 255. 255. 255. 255. 253.]\n",
      " [206. 253. 254. 255. 255. 255. 255. 255. 255. 255. 254. 255. 255. 255.\n",
      "  250. 182.  81. 154. 248. 255. 255. 255. 255. 255. 255. 255. 255. 252.]\n",
      " [165. 248. 255. 255. 255. 255. 255. 255. 255. 255. 255. 255. 255. 255.\n",
      "  251. 191.  91. 145. 247. 255. 255. 255. 255. 255. 255. 255. 255. 253.]\n",
      " [106. 226. 247. 250. 255. 255. 255. 255. 255. 255. 255. 255. 255. 255.\n",
      "  251. 186.  93. 162. 249. 255. 255. 255. 255. 255. 255. 255. 255. 253.]\n",
      " [ 48. 135. 143. 186. 250. 255. 255. 255. 255. 255. 255. 255. 255. 255.\n",
      "  249. 182.  60. 173. 249. 255. 255. 255. 255. 255. 255. 255. 255. 254.]\n",
      " [ 22.  88. 116. 209. 253. 255. 255. 255. 255. 255. 255. 255. 255. 255.\n",
      "  253. 220.  95. 121. 245. 255. 255. 255. 255. 255. 255. 255. 255. 255.]\n",
      " [ 29. 171. 203. 246. 255. 255. 255. 255. 255. 255. 255. 255. 255. 255.\n",
      "  254. 234.  89.  77. 237. 255. 255. 255. 255. 255. 255. 255. 255. 255.]\n",
      " [ 29. 229. 250. 255. 255. 255. 255. 255. 255. 255. 255. 255. 255. 255.\n",
      "  255. 238.  75.  32. 220. 255. 255. 255. 255. 255. 255. 255. 255. 255.]\n",
      " [ 75. 228. 254. 255. 255. 255. 255. 255. 255. 255. 255. 255. 255. 255.\n",
      "  255. 245. 127. 101. 222. 253. 255. 255. 255. 255. 255. 255. 255. 255.]\n",
      " [143. 231. 254. 255. 255. 255. 255. 255. 255. 255. 255. 255. 255. 255.\n",
      "  255. 251. 179. 155. 222. 253. 255. 255. 255. 255. 255. 255. 255. 255.]\n",
      " [215. 242. 254. 255. 255. 255. 255. 255. 255. 255. 255. 255. 255. 255.\n",
      "  254. 252. 198. 150. 203. 252. 255. 255. 255. 255. 255. 255. 255. 255.]]\n"
     ]
    },
    {
     "data": {
      "image/png": "[encoded data removed]",
      "text/plain": [
       "<Figure size 432x288 with 1 Axes>"
      ]
     },
     "metadata": {},
     "output_type": "display_data"
    }
   ],
   "source": [
    "train = read_dataset('for_rcvae_with_2d_GentleOnehotPosMap_and_2d_GentleOnehotSinCos_20/train/', 3, 6477, 28*28)\n",
    "img ,label = train[2]\n",
    "img  = np.reshape(label, (28,28))\n",
    "print(img)\n",
    "plt.imshow(img)\n",
    "plt.show()"
   ]
  },
  {
   "cell_type": "code",
   "execution_count": null,
   "metadata": {},
   "outputs": [],
   "source": []
  }
 ],
 "metadata": {
  "kernelspec": {
   "display_name": "Python 3",
   "language": "python",
   "name": "python3"
  },
  "language_info": {
   "codemirror_mode": {
    "name": "ipython",
    "version": 3
   },
   "file_extension": ".py",
   "mimetype": "text/x-python",
   "name": "python",
   "nbconvert_exporter": "python",
   "pygments_lexer": "ipython3",
   "version": "3.5.3"
  }
 },
 "nbformat": 4,
 "nbformat_minor": 2
}
