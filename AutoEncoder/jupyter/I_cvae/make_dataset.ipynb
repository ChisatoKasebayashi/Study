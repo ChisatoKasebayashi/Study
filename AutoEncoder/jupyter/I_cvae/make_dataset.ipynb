{
 "cells": [
  {
   "cell_type": "code",
   "execution_count": 1,
   "metadata": {},
   "outputs": [],
   "source": [
    "import argparse\n",
    "import os\n",
    "import datetime\n",
    "import chainer\n",
    "import pickle\n",
    "import matplotlib.pyplot as plt\n",
    "from chainer import training\n",
    "from chainer.training import extensions\n",
    "from PIL import Image, ImageDraw\n",
    "import numpy as np\n",
    "import cv2\n",
    "import glob\n",
    "\n",
    "import make_random_selfdata\n",
    "from chainer import serializers\n",
    "%matplotlib inline"
   ]
  },
  {
   "cell_type": "code",
   "execution_count": 2,
   "metadata": {},
   "outputs": [
    {
     "data": {
      "image/png": "[encoded data removed]",
      "text/plain": [
       "<Figure size 432x288 with 1 Axes>"
      ]
     },
     "metadata": {},
     "output_type": "display_data"
    }
   ],
   "source": [
    "img = '../images/field_zyouge_sayuu_hanten.png'\n",
    "dataset = make_random_selfdata.MakeRandomSelfdata(img)\n",
    "\n",
    "num = 100000\n",
    "\n",
    "train, train_debug_data = dataset.get_random_dataset_for_rcvae_with_2d_GentleOnehotPosMap_and_2d_GentleOnehotSinCos(num,0)\n",
    "#test, test_debug_data = dataset.get_random_dataset_for_rcvae_with_2d_GentleOnehotPosMap_and_2d_GentleOnehotSinCos(num,1)\n",
    "\n",
    "img ,label = train[0]\n",
    "img  = np.reshape(label, (28,28))\n",
    "plt.imshow(img)\n",
    "plt.show()"
   ]
  },
  {
   "cell_type": "code",
   "execution_count": 3,
   "metadata": {},
   "outputs": [],
   "source": [
    "func_name = 'for_rcvae_with_2d_GentleOnehotPosMap_and_2d_GentleOnehotSinCos'\n",
    "deg_range = dataset.rotation_angle\n",
    "name  = func_name + '_' + str(deg_range)"
   ]
  },
  {
   "cell_type": "code",
   "execution_count": 4,
   "metadata": {},
   "outputs": [],
   "source": [
    "def save_dataset(data, num, f): # 0:訓練データ　1:テストデータ\n",
    "    dir_name = name\n",
    "    if not os.path.exists(dir_name):\n",
    "        os.mkdir(dir_name)\n",
    "    else:\n",
    "        now = datetime.datetime.now()\n",
    "        dir_name = dir_name + '{0:%Y%m%d%H%M}'.format(now)\n",
    "        os.mkdir(dir_name)\n",
    "    if(f==0):\n",
    "        dir_name = dir_name+'/'+'train'\n",
    "        os.mkdir(dir_name)\n",
    "    if(f==1):\n",
    "        dir_name = dir_name+'/'+'test'\n",
    "        os.mkdir(dir_name)\n",
    "    for n in range(num):\n",
    "        image_name = '{0:09d}'.format(n)\n",
    "        img = train[n][0]\n",
    "        img_uint = img *255\n",
    "        img_uint = img_uint.astype(np.uint8)\n",
    "        save_dir = './'+dir_name + '/'+ image_name  +'.jpg'\n",
    "        cv2.imwrite(save_dir, img_uint)\n",
    "            \n",
    "        label = train[n][1]\n",
    "        label_uint = label *255\n",
    "        label_uint = label_uint.astype(np.uint8)\n",
    "        save_dir = './'+dir_name + '/'+ image_name + '_label' +'.jpg'\n",
    "        cv2.imwrite(save_dir, label_uint)\n",
    "    print(dir_name)\n"
   ]
  },
  {
   "cell_type": "code",
   "execution_count": 5,
   "metadata": {},
   "outputs": [
    {
     "name": "stdout",
     "output_type": "stream",
     "text": [
      "for_rcvae_with_2d_GentleOnehotPosMap_and_2d_GentleOnehotSinCos_180/train\n"
     ]
    }
   ],
   "source": [
    "save_dataset(train, num, 0)"
   ]
  },
  {
   "cell_type": "code",
   "execution_count": null,
   "metadata": {},
   "outputs": [],
   "source": [
    "def add_data(data, num,  dir_name):\n",
    "    ret = dir_name + str('?????????.jpg')\n",
    "    print(ret)\n",
    "    l = glob.glob(ret)\n",
    "    already_exists = len(l)\n",
    "    #print(already_exists)\n",
    "    for n in range(num):\n",
    "        image_name = '{0:09d}'.format(n+already_exists)\n",
    "        #print(image_name)\n",
    "        img = train[n][0]\n",
    "        img_uint = img *255\n",
    "        img_uint = img_uint.astype(np.uint8)\n",
    "        save_dir = './'+dir_name + '/'+ image_name  +'.jpg'\n",
    "        cv2.imwrite(save_dir, img_uint)\n",
    "            \n",
    "        label = train[n][1]\n",
    "        label_uint = label *255\n",
    "        label_uint = label_uint.astype(np.uint8)\n",
    "        save_dir = './'+dir_name + '/'+ image_name + '_label' +'.jpg'\n",
    "        cv2.imwrite(save_dir, label_uint)\n"
   ]
  },
  {
   "cell_type": "code",
   "execution_count": null,
   "metadata": {},
   "outputs": [],
   "source": [
    "img = '../images/field_zyouge_sayuu_hanten.png'\n",
    "dataset = make_random_selfdata.MakeRandomSelfdata(img)\n",
    "num = 100000\n",
    "\n",
    "train, train_debug_data = dataset.get_random_dataset_for_rcvae_with_2d_GentleOnehotPosMap_and_2d_GentleOnehotSinCos(num,0)\n",
    "add_data(train, num,'for_rcvae_with_2d_GentleOnehotPosMap_and_2d_GentleOnehotSinCos_40/train/' )"
   ]
  },
  {
   "cell_type": "code",
   "execution_count": null,
   "metadata": {},
   "outputs": [],
   "source": [
    "def read_dataset(data_dir, num, image_dim, label_dim): # 0:訓練データ　1:テストデータ\n",
    "    images = np.zeros((num, image_dim), dtype=np.float32)\n",
    "    labels = np.zeros((num, label_dim), dtype=np.float32)\n",
    "    for n in range(num):\n",
    "        img = data_dir + '{0:09d}'.format(n) + '.jpg'\n",
    "        images[n, :] = cv2.imread(img, cv2.IMREAD_GRAYSCALE).flatten()\n",
    "        label = data_dir + '{0:09d}'.format(n) + '_label'+ '.jpg'\n",
    "        labels[n, :] = cv2.imread(label, cv2.IMREAD_GRAYSCALE).flatten()\n",
    "    return chainer.datasets.TupleDataset(images, labels)"
   ]
  },
  {
   "cell_type": "code",
   "execution_count": null,
   "metadata": {},
   "outputs": [],
   "source": [
    "train = read_dataset('for_rcvae_with_2d_GentleOnehotPosMap_and_2d_GentleOnehotSinCos_20/train/', 3, 6477, 28*28)\n",
    "img ,label = train[2]\n",
    "img  = np.reshape(label, (28,28))\n",
    "print(img)\n",
    "plt.imshow(img)\n",
    "plt.show()"
   ]
  },
  {
   "cell_type": "code",
   "execution_count": null,
   "metadata": {},
   "outputs": [],
   "source": []
  }
 ],
 "metadata": {
  "kernelspec": {
   "display_name": "Python 3",
   "language": "python",
   "name": "python3"
  },
  "language_info": {
   "codemirror_mode": {
    "name": "ipython",
    "version": 3
   },
   "file_extension": ".py",
   "mimetype": "text/x-python",
   "name": "python",
   "nbconvert_exporter": "python",
   "pygments_lexer": "ipython3",
   "version": "3.5.3"
  }
 },
 "nbformat": 4,
 "nbformat_minor": 2
}
