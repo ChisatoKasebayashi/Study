{
 "cells": [
  {
   "cell_type": "code",
   "execution_count": 1,
   "metadata": {},
   "outputs": [
    {
     "ename": "ImportError",
     "evalue": "No module named 'cupy'",
     "output_type": "error",
     "traceback": [
      "\u001b[0;31m---------------------------------------------------------------------------\u001b[0m",
      "\u001b[0;31mImportError\u001b[0m                               Traceback (most recent call last)",
      "\u001b[0;32m<ipython-input-1-7e282126053a>\u001b[0m in \u001b[0;36m<module>\u001b[0;34m\u001b[0m\n\u001b[1;32m      7\u001b[0m \u001b[0;32mimport\u001b[0m \u001b[0mmake_random_selfdata\u001b[0m\u001b[0;34m\u001b[0m\u001b[0m\n\u001b[1;32m      8\u001b[0m \u001b[0;32mfrom\u001b[0m \u001b[0mPIL\u001b[0m \u001b[0;32mimport\u001b[0m \u001b[0mImage\u001b[0m\u001b[0;34m,\u001b[0m \u001b[0mImageDraw\u001b[0m\u001b[0;34m\u001b[0m\u001b[0m\n\u001b[0;32m----> 9\u001b[0;31m \u001b[0;32mimport\u001b[0m \u001b[0mtrain_myrcvae\u001b[0m\u001b[0;34m\u001b[0m\u001b[0m\n\u001b[0m",
      "\u001b[0;32m~/Study/AutoEncoder/jupyter/I_cvae/train_myrcvae.py\u001b[0m in \u001b[0;36m<module>\u001b[0;34m\u001b[0m\n\u001b[1;32m     22\u001b[0m \u001b[0;32mimport\u001b[0m \u001b[0mcv2\u001b[0m\u001b[0;34m\u001b[0m\u001b[0m\n\u001b[1;32m     23\u001b[0m \u001b[0;34m\u001b[0m\u001b[0m\n\u001b[0;32m---> 24\u001b[0;31m \u001b[0;32mimport\u001b[0m \u001b[0mnet\u001b[0m\u001b[0;34m\u001b[0m\u001b[0m\n\u001b[0m\u001b[1;32m     25\u001b[0m \u001b[0;32mimport\u001b[0m \u001b[0mmake_random_mnist\u001b[0m\u001b[0;34m\u001b[0m\u001b[0m\n\u001b[1;32m     26\u001b[0m \u001b[0;32mimport\u001b[0m \u001b[0mmake_random_selfdata\u001b[0m\u001b[0;34m\u001b[0m\u001b[0m\n",
      "\u001b[0;32m~/Study/AutoEncoder/jupyter/I_cvae/net.py\u001b[0m in \u001b[0;36m<module>\u001b[0;34m\u001b[0m\n\u001b[1;32m      6\u001b[0m \u001b[0;32mimport\u001b[0m \u001b[0mchainer\u001b[0m\u001b[0;34m.\u001b[0m\u001b[0mlinks\u001b[0m \u001b[0;32mas\u001b[0m \u001b[0mL\u001b[0m\u001b[0;34m\u001b[0m\u001b[0m\n\u001b[1;32m      7\u001b[0m \u001b[0;32mimport\u001b[0m \u001b[0mnumpy\u001b[0m \u001b[0;32mas\u001b[0m \u001b[0mnp\u001b[0m\u001b[0;34m\u001b[0m\u001b[0m\n\u001b[0;32m----> 8\u001b[0;31m \u001b[0;32mimport\u001b[0m \u001b[0mcupy\u001b[0m\u001b[0;34m\u001b[0m\u001b[0m\n\u001b[0m\u001b[1;32m      9\u001b[0m \u001b[0;34m\u001b[0m\u001b[0m\n\u001b[1;32m     10\u001b[0m \u001b[0;32mclass\u001b[0m \u001b[0mMyCVAE\u001b[0m\u001b[0;34m(\u001b[0m\u001b[0mchainer\u001b[0m\u001b[0;34m.\u001b[0m\u001b[0mChain\u001b[0m\u001b[0;34m)\u001b[0m\u001b[0;34m:\u001b[0m\u001b[0;34m\u001b[0m\u001b[0m\n",
      "\u001b[0;31mImportError\u001b[0m: No module named 'cupy'"
     ]
    }
   ],
   "source": [
    "import pandas as pd\n",
    "import numpy as np\n",
    "import cv2\n",
    "import math\n",
    "import matplotlib.pyplot as plt\n",
    "import matplotlib.patches as patch\n",
    "import make_random_selfdata\n",
    "from PIL import Image, ImageDraw\n",
    "import train_myrcvae"
   ]
  },
  {
   "cell_type": "code",
   "execution_count": null,
   "metadata": {},
   "outputs": [],
   "source": [
    "def read_csv(csv_file):\n",
    "    df = pd.read_csv(csv_file, sep=',', header=None)\n",
    "    len_cols = len(df)\n",
    "    image_name = df.loc[0:len_cols,0]\n",
    "    x = np.array(df.loc[0:len_cols,1], np.float32)\n",
    "    y = np.array(df.loc[0:len_cols,2], np.float32)\n",
    "    th = np.array(df.loc[0:len_cols,3], np.float32)\n",
    "    return image_name, x, y, th\n",
    "def convertVrepPos2PosMapValue(self, x, y, ratio):\n",
    "        f_w = self.field_w\n",
    "        f_h = self.field_h\n",
    "        x = (x + f_w/2)/ratio\n",
    "        y = int(self.field_h/self.vrep_image_ratio) - (y + f_h/2)/ratio\n",
    "        return x.astype(np.int64), y.astype(np.int64)\n",
    "def separetePosition_and_angle_probabilityMap(data, data_len, border):\n",
    "    angle_map_l = len(data[0]) - border \n",
    "    pos_map = np.zeros((data_len, border), dtype=np.float32)\n",
    "    angle_map = np.zeros((data_len, angle_map_l), dtype=np.float32)\n",
    "    for n in range(data_len):\n",
    "        pos_map[n,:] = data[n][0:border]\n",
    "        angle_map[n,:] = data[n][border:]\n",
    "    return pos_map, angle_map"
   ]
  },
  {
   "cell_type": "code",
   "execution_count": null,
   "metadata": {},
   "outputs": [],
   "source": [
    "class Plot:\n",
    "    def __init__(self, make_random_selfdata_cls):\n",
    "        self.vrep_image_ratio = 10 #make_random_selfdata_cls.vrep_image_ratio\n",
    "        self.field_w = make_random_selfdata_cls.field_w\n",
    "        self.field_h = make_random_selfdata_cls.field_h\n",
    "        self.vrep_onehot_w = make_random_selfdata_cls.vrep_onehot_w\n",
    "        self.vrep_onehot_h = make_random_selfdata_cls.vrep_onehot_h\n",
    "        self.field_img = Image.open(\"green.png\")\n",
    "        self.r = 0.2\n",
    "        self.robot_color = \"black\"\n",
    "\n",
    "    def plotRobot(self, x, y, th, ax):\n",
    "        #rx, ry = plot_cls.convertVrepPos2PosMapValue(x, y, 10)rx, ry = plot_cls.convertVrepPos2PosMapValue(x, y, 10)\n",
    "        xn = x + size * math.cos(th)\n",
    "        yn = y + size * math.sin(th)\n",
    "        ax.plot([x.astype(np.int64), xn.astype(np.int64)], [y.astype(np.int64), yn.astype(np.int64)], color=\"black\")\n",
    "        c = patch.Circle(xy=(x.astype(np.int64), y.astype(np.int64)), radius=size, fill=False, color=\"black\")\n",
    "        ax.add_patch(c)\n",
    "    def plotParticle(self, particles, ax): # x, y, th, weight\n",
    "        #pos2D = [self.convertVrepPos2PosMapValue(p.pose[0], p.pose[1], 10) for p in particles]\n",
    "        xs = [p.pose[0] for p in particles]\n",
    "        ys = [p.pose[1] for p in particles]\n",
    "        #vxs = [math.cos(p.pose[2])*p.weight*len(particles) for p in particles] #重みを要素に反映\n",
    "        #vys = [math.sin(p.pose[2])*p.weight*len(particles) for p in particles]  #重みを要素に反映\n",
    "        vxs = [math.cos(p.pose[2]) for p in particles]\n",
    "        vys = [math.sin(p.pose[2]) for p in particles]\n",
    "        ax.quiver(xs, ys, vxs, vys, angles='xy', scale_units='xy', scale=0.02, color=\"blue\", alpha=0.8) #変更\n",
    "        \n",
    "    def plotUpdate(self, x, y, th, particle, ax):\n",
    "        self.plotRobot(x, y, th,ax)\n",
    "        self.plotParticle(particle, ax)\n",
    "        ax.imshow(self.field_img)\n",
    "        plt.show()"
   ]
  },
  {
   "cell_type": "code",
   "execution_count": null,
   "metadata": {},
   "outputs": [],
   "source": [
    "class Particle():\n",
    "    def __init__(self, init_pose, weight):\n",
    "        self.pose = init_pose\n",
    "        self.weight = weight\n",
    "    def motion_update(self, x, y, th, pre_x, pre_y, pre_th):\n",
    "        #適当なランダムを加えながらモーションアップデートする（真値の1番目ー0番目）\n",
    "        x, y = plot_cls.convertVrepPos2PosMapValue(x, y, 10)\n",
    "        pre_x, pre_y = plot_cls.convertVrepPos2PosMapValue(pre_x, pre_y, 10)\n",
    "        px = x - pre_x + np.random.normal(0, 10, 1)\n",
    "        py = y - pre_y + np.random.normal(0, 10, 1)\n",
    "        pth = th - pre_th\n",
    "        dx =  self.pose[0] + px \n",
    "        dy = self.pose[1] + py \n",
    "        dth = self.pose[2] + pth\n",
    "        return [dx, dy, dth]\n",
    "    def observation_update(self, pred):\n",
    "        pos_map = pred[0]\n",
    "        angle_map = pored[1]\n",
    "        pass"
   ]
  },
  {
   "cell_type": "code",
   "execution_count": null,
   "metadata": {},
   "outputs": [],
   "source": [
    "class Robot:\n",
    "    def __init__(self, init_x, init_y, init_theta):\n",
    "        self.init_x = init_x\n",
    "        self.init_y = init_y\n",
    "        self.init_theta = init_theta\n",
    "    def motion_update(self, x, y, th):\n",
    "        #csv から位置を更新\n",
    "        rx, ry = plot_cls.convertVrepPos2PosMapValue(x, y, 10)\n",
    "        return rx, ry, th\n",
    "    def observation_update():\n",
    "        pass"
   ]
  },
  {
   "cell_type": "code",
   "execution_count": null,
   "metadata": {},
   "outputs": [],
   "source": [
    "class CVAE:\n",
    "    def __init__(self):\n",
    "        self.model = net.MyCVAE(CONTEXTDIM, NZDIM, HIDDEN, NLABELDIM)\n",
    "        serializers.load_npz(\"vrep_weight/mymodel_final.npz\", self.model)\n",
    "        self.pos_map = np.zeros()\n",
    "        self.angle_map = np.zeros()\n",
    "    def pred_CVAE(self, image_name):\n",
    "        img = Image.open(image_name)\n",
    "        plt.imshow(img)\n",
    "        plt.show()\n",
    "        with chainer.using_config('train', False), chainer.no_backprop_mode():\n",
    "            x = self.model.decode(z, np.expand_dims(values, axis=1))\n",
    "        self.pos_map, self.angle_map = separetePosition_and_angle_probabilityMap(x.data, len(x.data), dataset.vrep_onehot_w* dataset.vrep_onehot_h)\n",
    "    def getPosMap_and_AngleMap(self):\n",
    "        return [self.pos_map, self.self.angle_map]"
   ]
  },
  {
   "cell_type": "code",
   "execution_count": null,
   "metadata": {
    "scrolled": true
   },
   "outputs": [],
   "source": [
    "image_name, x, y, th = read_csv('../../../data/Moto_VrepImage/continuous_data_center_circle_to_before_goal_log.csv')\n",
    "\n",
    "dami = '../images/field.png'\n",
    "tool = make_random_selfdata.MakeRandomSelfdata(dami)\n",
    "plot_cls = Plot(tool)\n",
    "p_num = 100\n",
    "init_x, init_y = plot_cls.convertVrepPos2PosMapValue(x[0], y[0], 10)\n",
    "mu = [init_x, init_y, th[0]]\n",
    "sigma = [3,3,0.2]\n",
    "init_pose = [np.random.normal(mu[0], sigma[0],1)[0], np.random.normal(mu[1], sigma[1],1)[0], th[0]]\n",
    "print(init_pose)\n",
    "robot = Robot(init_pose[0],init_pose[1],init_pose[2])\n",
    "cvae = CVAE()\n",
    "particles = [Particle(init_pose, 1.0/p_num) for i in range(p_num)]\n",
    "#print(particles[0].pose, particles[0].weight)\n",
    "n = 0\n",
    "size = 20\n",
    "\n",
    "for n in range(len(x)):\n",
    "    fig = plt.figure()\n",
    "    ax = fig.add_subplot(111)\n",
    "    if(n==0):\n",
    "        cx, cy = plot_cls.convertVrepPos2PosMapValue(x[0], y[0], 10)\n",
    "        plot_cls.plotUpdate(cx, cy, th[n], particles, ax)\n",
    "        plt.cla()\n",
    "        plt.clf()\n",
    "    else:\n",
    "        #--------motion update----------#\n",
    "        #robotのmotion_update\n",
    "        cx, cy, cth = robot.motion_update(x[n], y[n], th[n])\n",
    "        #particleのmotion_update\n",
    "        for i in range(len(particles)):\n",
    "            particles[i].pose = particles[i].motion_update(x[n], y[n], th[n], x[n-1], y[n-1], th[n-1])\n",
    "        #--------observation update----------#\n",
    "        cvae.pred_CVAE(image_name[0])\n",
    "        \n",
    "        #or i in range(len(particles)):\n",
    "        #    particles[i].weight = particles[i].observation_update(cvae.getPosMap_and_AngleMap())\n",
    "        \n",
    "        #--------plot update----------#\n",
    "        plot_cls.plotUpdate(cx,cy,cth, particles, ax)\n",
    "        plt.cla()\n",
    "        plt.clf()\n",
    "        \n",
    "#パーティクルを適当にまく\n",
    "#モーションアップデートする（真値の1番目ー0番目）\n",
    "#1番目の画像を使ってCVAEのゆうど関数から重みの更新\n",
    "#これを繰り返す"
   ]
  },
  {
   "cell_type": "code",
   "execution_count": null,
   "metadata": {},
   "outputs": [],
   "source": []
  },
  {
   "cell_type": "code",
   "execution_count": null,
   "metadata": {},
   "outputs": [],
   "source": []
  }
 ],
 "metadata": {
  "kernelspec": {
   "display_name": "Python 3",
   "language": "python",
   "name": "python3"
  },
  "language_info": {
   "codemirror_mode": {
    "name": "ipython",
    "version": 3
   },
   "file_extension": ".py",
   "mimetype": "text/x-python",
   "name": "python",
   "nbconvert_exporter": "python",
   "pygments_lexer": "ipython3",
   "version": "3.5.2"
  }
 },
 "nbformat": 4,
 "nbformat_minor": 2
}
