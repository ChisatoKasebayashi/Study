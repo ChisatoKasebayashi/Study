{
 "cells": [
  {
   "cell_type": "code",
   "execution_count": 4,
   "metadata": {},
   "outputs": [],
   "source": [
    "import six\n",
    "\n",
    "import chainer\n",
    "import chainer.functions as F\n",
    "from chainer.functions.loss.vae import gaussian_kl_divergence\n",
    "import chainer.links as L\n"
   ]
  },
  {
   "cell_type": "code",
   "execution_count": 5,
   "metadata": {},
   "outputs": [],
   "source": [
    "class CVAE(chainer.Chain):\n",
    "    def __init__(self, n_in, n_latent, n_h, n_label):\n",
    "        super(CVAE, self).__init__()\n",
    "        with self.init_scope():\n",
    "            #encoder\n",
    "            self.embed_e = L.EmbedID(n_label, n_h, ignore_label=-1) # この関数使わずに座標をいれる\n",
    "            self.le1 = L.Linear(n_in, n_h)\n",
    "            self.le2_mu = L.Linear(n_h*2, n_latent)\n",
    "            self.le2_ln_var = L.Linear(n_h*2, n_latent)\n",
    "            #dencoder\n",
    "            self.embed_d = L.EmbedID(n_label, n_h, ignore_label=-1)\n",
    "            self.ld1 = L.Linear(n_latent, n_h)\n",
    "            self.ld2 = L.Linear(n_h*2, n_in)\n",
    "            \n",
    "    def __call__(self, x, y, sigmoid=True):\n",
    "        return self.decode(self.encode(x, y)[0], y, sigmoid)\n",
    "    \n",
    "    def encode(self, x, y):\n",
    "        h1 = F.tanh(self.le1(x))\n",
    "        h2 = F.tanh(self.embed_e(y))\n",
    "        mu = self.le2_mu(F.concat([h1, h2]))\n",
    "        ln_var = self.le2_ln_var(F.concat([h1, h2]))  # log(sigma**2)\n",
    "        return mu, ln_var\n",
    "    \n",
    "    def decode(self, z, y, sigmoid=True):\n",
    "        h1 = F.tanh(self.ld1(z))\n",
    "        h2 = F.tanh(self.embed_d(y))\n",
    "        h3 = self.ld2(F.concat([h1, h2]))\n",
    "        if sigmoid:\n",
    "            return F.sigmoid(h3)\n",
    "        else:\n",
    "            return h3\n",
    "    def get_loss_func(self, C=1.0, k=1):\n",
    "        def lf(x, y):\n",
    "            mu, ln_var = self.encode(x, y)\n",
    "            batchsize = len(mu.data)\n",
    "            # reconstruction loss\n",
    "            rec_loss = 0\n",
    "            for l in six.moves.range(k):\n",
    "                z = F.gaussian(mu, ln_var)\n",
    "                rec_loss += F.bernoulli_nll(x, self.decode(z, y, sigmoid=False)) \\\n",
    "                    / (k * batchsize)\n",
    "            self.rec_loss = rec_loss\n",
    "            self.loss = self.rec_loss + \\\n",
    "                C * gaussian_kl_divergence(mu, ln_var) / batchsize\n",
    "            return self.loss\n",
    "        return lf"
   ]
  }
 ],
 "metadata": {
  "kernelspec": {
   "display_name": "Python 2",
   "language": "python",
   "name": "python2"
  },
  "language_info": {
   "codemirror_mode": {
    "name": "ipython",
    "version": 2
   },
   "file_extension": ".py",
   "mimetype": "text/x-python",
   "name": "python",
   "nbconvert_exporter": "python",
   "pygments_lexer": "ipython2",
   "version": "2.7.12"
  }
 },
 "nbformat": 4,
 "nbformat_minor": 2
}
