{
 "cells": [
  {
   "cell_type": "code",
   "execution_count": 1,
   "metadata": {},
   "outputs": [
    {
     "name": "stderr",
     "output_type": "stream",
     "text": [
      "/usr/local/lib/python2.7/dist-packages/h5py/__init__.py:36: FutureWarning: Conversion of the second argument of issubdtype from `float` to `np.floating` is deprecated. In future, it will be treated as `np.float64 == np.dtype(float).type`.\n",
      "  from ._conv import register_converters as _register_converters\n"
     ]
    }
   ],
   "source": [
    "import os\n",
    "import random\n",
    "\n",
    "import chainer\n",
    "import data\n",
    "from chainer.dataset import convert\n",
    "from sklearn.datasets import load_digits, fetch_mldata\n",
    "from sklearn.model_selection import train_test_split\n",
    "from sklearn.cluster import KMeans\n",
    "from sklearn.metrics import v_measure_score\n",
    "#from mnist import MNIST\n",
    "import numpy as np\n",
    "import matplotlib.pyplot as plt\n",
    "import matplotlib.ticker as tick\n",
    "plt.style.use('ggplot')\n",
    "from PIL import Image\n",
    "\n",
    "from defCVAE import CVAE\n",
    "%matplotlib inline\n",
    "%load_ext autoreload\n",
    "%autoreload 2"
   ]
  },
  {
   "cell_type": "code",
   "execution_count": 2,
   "metadata": {},
   "outputs": [
    {
     "data": {
      "text/plain": [
       "'\\n# Load the MNIST dataset\\nmnist = data.load_mnist_data()\\n#split train : test = 8 :2 \\nX_train, X_test, L_train, L_test = train_test_split(mnist[\"data\"], mnist[\"target\"], test_size=0.2)\\n#convert dict => np array\\nX_train = np.array(X_train, dtype=\\'float32\\') / 255\\nX_test = np.array(X_test, dtype=\\'float32\\') / 255\\nL_train = np.array(L_train, dtype=\\'int32\\')\\nL_test = np.array(L_test, dtype=\\'int32\\')\\n#print(X_train.shape)\\n#print(L_train.shape)\\n\\ntrain_count = len(X_train)\\nl_train_half = np.concatenate([L_train[0:(train_count/2)], np.ones(train_count-(train_count/2))*-1]).astype(\\'int32\\')\\n\\n#  list : [image label]  \\nXy_train = [(x, y) for x, y in zip(X_train, l_train_half)]\\nXy_test = [(x, -1) for x, y in zip(X_test, L_test)]\\n'"
      ]
     },
     "execution_count": 2,
     "metadata": {},
     "output_type": "execute_result"
    }
   ],
   "source": [
    "'''\n",
    "# Load the MNIST dataset\n",
    "mnist = data.load_mnist_data()\n",
    "#split train : test = 8 :2 \n",
    "X_train, X_test, L_train, L_test = train_test_split(mnist[\"data\"], mnist[\"target\"], test_size=0.2)\n",
    "#convert dict => np array\n",
    "X_train = np.array(X_train, dtype='float32') / 255\n",
    "X_test = np.array(X_test, dtype='float32') / 255\n",
    "L_train = np.array(L_train, dtype='int32')\n",
    "L_test = np.array(L_test, dtype='int32')\n",
    "#print(X_train.shape)\n",
    "#print(L_train.shape)\n",
    "\n",
    "train_count = len(X_train)\n",
    "l_train_half = np.concatenate([L_train[0:(train_count/2)], np.ones(train_count-(train_count/2))*-1]).astype('int32')\n",
    "\n",
    "#  list : [image label]  \n",
    "Xy_train = [(x, y) for x, y in zip(X_train, l_train_half)]\n",
    "Xy_test = [(x, -1) for x, y in zip(X_test, L_test)]\n",
    "'''"
   ]
  },
  {
   "cell_type": "markdown",
   "metadata": {},
   "source": [
    "# 画像の切り出し・訓練データ作成とか"
   ]
  },
  {
   "cell_type": "code",
   "execution_count": 3,
   "metadata": {},
   "outputs": [
    {
     "name": "stdout",
     "output_type": "stream",
     "text": [
      "image size:(140, 56)\n",
      "(784,)\n"
     ]
    },
    {
     "data": {
      "image/png": "[encoded data removed]",
      "text/plain": [
       "<matplotlib.figure.Figure at 0x7f43bc52b3d0>"
      ]
     },
     "metadata": {},
     "output_type": "display_data"
    }
   ],
   "source": [
    "#Show iamge\n",
    "IMG = Image.open(\"test_image.png\")\n",
    "plt.xticks(np.arange(0,140,28))\n",
    "plt.yticks(np.arange(0,56,28))\n",
    "plt.imshow(np.asarray((IMG)))\n",
    "print(\"image size:\"+str(IMG.size))\n",
    "img = Image.open(\"test_image.png\").convert(\"L\")\n",
    "\n",
    "def cropImage(center_x, center_y, height, width):\n",
    "    left = center_x - width/2\n",
    "    upper = center_y - height/2\n",
    "    right = center_x + width/2\n",
    "    lower = center_y + height/2\n",
    "    c_img = img.crop((left, upper, right, lower))\n",
    "    carr = np.asarray(c_img)\n",
    "    carr = carr.flatten()\n",
    "    #print(c_img)\n",
    "    carr = np.asarray(carr).astype(np.float32)\n",
    "    return np.array(carr, dtype=np.float32)/255\n",
    "\n",
    "def random_crop(DATA_NUM):\n",
    "    image_list = np.empty(28*28,dtype=np.float32)\n",
    "    #print(image_list.size)\n",
    "    for n in range(DATA_NUM):\n",
    "        # choice 14 <= x <= 126 && 14 <= y <= 42\n",
    "        randx = np.random.rand()*112 + 14\n",
    "        randy = np.random.rand()*28 + 14\n",
    "        c_image = cropImage(int(randx), int(randy), 28, 28)\n",
    "        #print(c_image.shape)\n",
    "        image_list = np.vstack((image_list, c_image))\n",
    "    image_list = np.delete(image_list, 0,axis=0)\n",
    "    return image_list\n",
    "\n",
    "ans = random_crop(3)\n",
    "print(ans[0].shape)\n",
    "s_img = ans[0]\n",
    "#plt.imshow(np.asarray((s_img.reshape(28,28))))\n",
    "\n",
    "X_train = random_crop(800)\n",
    "X_test = random_crop(200)\n",
    "L_train = np.full(800,0)\n",
    "L_test = np.full(200,0)\n",
    "#print(L_train.shape)\n",
    "\n",
    "train_count = len(X_train)\n",
    "l_train_half = np.concatenate([L_train[0:(train_count/2)], np.ones(train_count-(train_count/2))*-1]).astype('int32')\n",
    "\n",
    "#  list : [image label]  \n",
    "Xy_train = [(x, y) for x, y in zip(X_train, l_train_half)]\n",
    "Xy_test = [(x, -1) for x, y in zip(X_test, L_test)]"
   ]
  },
  {
   "cell_type": "code",
   "execution_count": 4,
   "metadata": {},
   "outputs": [],
   "source": [
    "def train(input_size, hidden_size, z_size, label_size, minibatch_size, epoch_num, X_train, output):\n",
    "    model = CVAE(input_size, z_size, hidden_size, label_size)\n",
    "    optimizer = chainer.optimizers.Adam()\n",
    "    optimizer.setup(model)\n",
    "    \n",
    "    train_iter = chainer.iterators.SerialIterator(X_train, minibatch_size)\n",
    "    for epoch in range(0, epoch_num):\n",
    "        sum_loss = 0\n",
    "        sum_rec_loss = 0\n",
    "        batch = train_iter.next()\n",
    "        x_array, t_array = convert.concat_examples(batch)\n",
    "        x = chainer.Variable(x_array)\n",
    "        t = chainer.Variable(t_array)\n",
    "        optimizer.update(model.get_loss_func(C=0.1, k=5), x, t)\n",
    "        \n",
    "        sum_loss += float(model.loss.data) * len(x.data)\n",
    "        sum_rec_loss += float(model.rec_loss.data) * len(x.data)\n",
    "        \n",
    "    chainer.serializers.save_npz(output, model)\n",
    "    print('train mean loss={}, mean reconstruction loss={}'.format(sum_loss / train_count, sum_rec_loss / train_count))\n",
    "\n",
    "def test_plot(model, X_test, L_test):\n",
    "    colors_dict = {}\n",
    "    cm = plt.get_cmap('jet')\n",
    "    for dic in range(0,10):\n",
    "        colors_dict[dic] = cm(1.*dic/10)\n",
    "\n",
    "    #markers = [\"*\", \"s\", \"v\", \"^\", \"+\", \"o\", \"P\", \"D\", \"p\", \"d\"]\n",
    "        train_iter = chainer.iterators.SerialIterator(X_test, len(X_test), repeat=False, shuffle=False)\n",
    "    with chainer.using_config('train', False), chainer.no_backprop_mode():\n",
    "        batch = train_iter.next()\n",
    "        x_array, t_array = convert.concat_examples(batch)\n",
    "        x = chainer.Variable(x_array)\n",
    "        t = chainer.Variable(t_array)\n",
    "        x_mu, log_var = model.encode(x, t)\n",
    "        print('mu size:{}'.format(x_mu.shape))\n",
    "        print('logvar size:{}'.format(log_var.shape))\n",
    "    data_dict = {}\n",
    "    for x, y in zip(x_mu.data, L_test):\n",
    "        if y in data_dict:\n",
    "            data_dict[y].append(x)\n",
    "        else:\n",
    "            data_dict[y] = [x]\n",
    "    #plt.axes(axisbg='#FFFAFF')\n",
    "    for y in range(0, 10):\n",
    "        data = data_dict[y]\n",
    "        xs  = [row[0] for row in data]\n",
    "        ys = [row[1] for row in data]\n",
    "        plt.scatter(xs, ys, c=colors_dict[y], label=y, alpha=0.6)\n",
    "    plt.title(\"CVAE\")\n",
    "    plt.grid()\n",
    "    plt.legend()\n",
    "    \n",
    "    plt.show()\n",
    "    \n",
    "def test_decode(model, x, label, output):\n",
    "    with chainer.using_config('train', False), chainer.no_backprop_mode():\n",
    "        x_v = chainer.Variable(x)\n",
    "        label_v = chainer.Variable(label)\n",
    "        y_v = model(x_v, label_v)\n",
    "        print('出力')\n",
    "        pixels = (y_v.data * 256).reshape((28, 28))\n",
    "        plt.imshow(pixels, cmap='gray')\n",
    "        plt.axis(\"off\")\n",
    "        plt.show()\n",
    "        #plt.imsave(output, pixels, cmap='gray')"
   ]
  },
  {
   "cell_type": "markdown",
   "metadata": {},
   "source": [
    "# 訓練"
   ]
  },
  {
   "cell_type": "code",
   "execution_count": 5,
   "metadata": {},
   "outputs": [
    {
     "name": "stdout",
     "output_type": "stream",
     "text": [
      "train mean loss=3.0614862442, mean reconstruction loss=2.56192398071\n"
     ]
    }
   ],
   "source": [
    "#main\n",
    "EPOCH_NUM = 1000\n",
    "INPUT_SIZE = 784\n",
    "HIDDEN_SIZE = 128\n",
    "MINIBATCH_SIZE = 100\n",
    "LABEL_SIZE = 10\n",
    "Z_SIZE = 20\n",
    "\n",
    "scores = {}\n",
    "MODEL_PATH_CVAE = './CVAE_{0}_{1}.model'.format(EPOCH_NUM, Z_SIZE)\n",
    "\n",
    "train(\n",
    "    input_size=INPUT_SIZE,\n",
    "    hidden_size=HIDDEN_SIZE,\n",
    "    z_size=Z_SIZE,\n",
    "    label_size=LABEL_SIZE,\n",
    "    minibatch_size=MINIBATCH_SIZE,\n",
    "    epoch_num=EPOCH_NUM,\n",
    "    X_train=Xy_train,\n",
    "    output=MODEL_PATH_CVAE\n",
    ")"
   ]
  },
  {
   "cell_type": "markdown",
   "metadata": {},
   "source": [
    "# 訓練した重みを使って文字を生成"
   ]
  },
  {
   "cell_type": "code",
   "execution_count": 6,
   "metadata": {},
   "outputs": [
    {
     "name": "stdout",
     "output_type": "stream",
     "text": [
      "入力\n"
     ]
    },
    {
     "data": {
      "image/png": "[encoded data removed]",
      "text/plain": [
       "<matplotlib.figure.Figure at 0x7f43bc505fd0>"
      ]
     },
     "metadata": {},
     "output_type": "display_data"
    },
    {
     "name": "stdout",
     "output_type": "stream",
     "text": [
      "出力\n"
     ]
    },
    {
     "data": {
      "image/png": "[encoded data removed]",
      "text/plain": [
       "<matplotlib.figure.Figure at 0x7f43b8b57d50>"
      ]
     },
     "metadata": {},
     "output_type": "display_data"
    }
   ],
   "source": [
    "INPUT_SIZE = 784\n",
    "HIDDEN_SIZE = 128\n",
    "Z_SIZE = 20\n",
    "MINIBATCH_SIZE = 100\n",
    "LABEL_SIZE = 10\n",
    "MODEL_PATH = './CVAE_1000_20.model'\n",
    "\n",
    "model = CVAE(INPUT_SIZE, Z_SIZE, HIDDEN_SIZE, LABEL_SIZE)\n",
    "chainer.serializers.load_npz(MODEL_PATH, model)\n",
    "\n",
    "print('入力')\n",
    "pixels = (X_test[[5]] * 256).reshape((28, 28))\n",
    "plt.imshow(pixels, cmap='gray')\n",
    "plt.axis(\"off\")\n",
    "plt.show()\n",
    "\n",
    "test_decode(model, X_test[[5]], np.array([-1], dtype='int32'), MODEL_PATH )"
   ]
  },
  {
   "cell_type": "markdown",
   "metadata": {},
   "source": [
    "# 画像が潜在空間のどこに分布しているのか表示"
   ]
  },
  {
   "cell_type": "code",
   "execution_count": 7,
   "metadata": {},
   "outputs": [
    {
     "data": {
      "text/plain": [
       "\"\\nINPUT_SIZE = 784\\nHIDDEN_SIZE = 128\\nZ_SIZE = 2\\nMINIBATCH_SIZE = 100\\nLABEL_SIZE = 10\\nMODEL_PATH = './CVAE_1000_2.model'\\nmodel = CVAE(INPUT_SIZE, Z_SIZE, HIDDEN_SIZE, LABEL_SIZE)\\nchainer.serializers.load_npz(MODEL_PATH, model)\\ntest_plot(model, Xy_test[0:200], L_test[0:200])\\n\""
      ]
     },
     "execution_count": 7,
     "metadata": {},
     "output_type": "execute_result"
    }
   ],
   "source": [
    "'''\n",
    "INPUT_SIZE = 784\n",
    "HIDDEN_SIZE = 128\n",
    "Z_SIZE = 2\n",
    "MINIBATCH_SIZE = 100\n",
    "LABEL_SIZE = 10\n",
    "MODEL_PATH = './CVAE_1000_2.model'\n",
    "model = CVAE(INPUT_SIZE, Z_SIZE, HIDDEN_SIZE, LABEL_SIZE)\n",
    "chainer.serializers.load_npz(MODEL_PATH, model)\n",
    "test_plot(model, Xy_test[0:200], L_test[0:200])\n",
    "'''"
   ]
  },
  {
   "cell_type": "code",
   "execution_count": null,
   "metadata": {},
   "outputs": [],
   "source": []
  }
 ],
 "metadata": {
  "kernelspec": {
   "display_name": "Python 2",
   "language": "python",
   "name": "python2"
  },
  "language_info": {
   "codemirror_mode": {
    "name": "ipython",
    "version": 2
   },
   "file_extension": ".py",
   "mimetype": "text/x-python",
   "name": "python",
   "nbconvert_exporter": "python",
   "pygments_lexer": "ipython2",
   "version": "2.7.12"
  }
 },
 "nbformat": 4,
 "nbformat_minor": 2
}
