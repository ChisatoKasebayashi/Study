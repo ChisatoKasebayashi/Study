{
 "cells": [
  {
   "cell_type": "code",
   "execution_count": 1,
   "metadata": {
    "scrolled": true
   },
   "outputs": [
    {
     "name": "stderr",
     "output_type": "stream",
     "text": [
      "/usr/local/lib/python2.7/dist-packages/h5py/__init__.py:36: FutureWarning: Conversion of the second argument of issubdtype from `float` to `np.floating` is deprecated. In future, it will be treated as `np.float64 == np.dtype(float).type`.\n",
      "  from ._conv import register_converters as _register_converters\n"
     ]
    }
   ],
   "source": [
    "import os\n",
    "import random\n",
    "\n",
    "import chainer\n",
    "import data\n",
    "from chainer.dataset import convert\n",
    "from sklearn.datasets import load_digits, fetch_mldata\n",
    "from sklearn.model_selection import train_test_split\n",
    "from sklearn.cluster import KMeans\n",
    "from sklearn.metrics import v_measure_score\n",
    "#from mnist import MNIST\n",
    "import numpy as np\n",
    "import matplotlib.pyplot as plt\n",
    "import matplotlib.ticker as tick\n",
    "plt.style.use('ggplot')\n",
    "from PIL import Image, ImageDraw\n",
    "\n",
    "from defCVAE import CVAE\n",
    "%matplotlib inline\n",
    "%load_ext autoreload\n",
    "%autoreload 2"
   ]
  },
  {
   "cell_type": "markdown",
   "metadata": {},
   "source": [
    "# 訓練画像"
   ]
  },
  {
   "cell_type": "code",
   "execution_count": 2,
   "metadata": {
    "scrolled": true
   },
   "outputs": [
    {
     "name": "stdout",
     "output_type": "stream",
     "text": [
      "image size:(140, 56)\n"
     ]
    },
    {
     "data": {
      "image/png": "[encoded data removed]",
      "text/plain": [
       "<matplotlib.figure.Figure at 0x7f7838a50d10>"
      ]
     },
     "metadata": {},
     "output_type": "display_data"
    }
   ],
   "source": [
    "#Show iamge\n",
    "IMG = Image.open(\"test_image.png\")\n",
    "plt.grid(c='c')\n",
    "plt.xticks(np.arange(0,140,28))\n",
    "plt.yticks(np.arange(0,56,28))\n",
    "plt.imshow(np.asarray((IMG)))\n",
    "print(\"image size:\"+str(IMG.size))\n",
    "img = Image.open(\"test_image.png\").convert(\"L\")"
   ]
  },
  {
   "cell_type": "markdown",
   "metadata": {},
   "source": [
    "# 画像の切り出し関数"
   ]
  },
  {
   "cell_type": "code",
   "execution_count": 3,
   "metadata": {
    "scrolled": false
   },
   "outputs": [
    {
     "data": {
      "text/plain": [
       "'\\nlabel=9\\nprint(convert_axis(label,3))\\nprint(center_point_list[label])\\nIMG = Image.open(\"test_image.png\")\\ndraw = ImageDraw.Draw(IMG)\\nfor l in range(10):\\n    draw.rectangle((convert_axis(l,7)),fill=(0,129,129))\\nplt.xticks(np.arange(0,140,14))\\nplt.yticks(np.arange(0,56,14))\\nplt.imshow(np.asarray((IMG)))\\n#plt.clf()\\n#plt.imshow(img)\\n'"
      ]
     },
     "execution_count": 3,
     "metadata": {},
     "output_type": "execute_result"
    }
   ],
   "source": [
    "center_point_list = np.empty((1, 2))\n",
    "for row in range(2):\n",
    "    for col in range(5):\n",
    "        c_point = (14+(28*col), 14*(row+1)+(row*14))\n",
    "        center_point_list = np.vstack((center_point_list, c_point))\n",
    "center_point_list = np.delete(center_point_list,0,0)\n",
    "\n",
    "def cropImage(center_x, center_y, height, width):\n",
    "    left = center_x - width/2\n",
    "    upper = center_y - height/2\n",
    "    right = center_x + width/2\n",
    "    lower = center_y + height/2\n",
    "    c_img = img.crop((left, upper, right, lower))\n",
    "    carr = np.asarray(c_img)\n",
    "    carr = carr.flatten()\n",
    "    \n",
    "    #print(c_img)\n",
    "    carr = np.asarray(carr).astype(np.float32)\n",
    "    return np.array(carr, dtype=np.float32)/255\n",
    "\n",
    "def random_crop(DATA_NUM):\n",
    "    image_list = np.empty(28*28,dtype=np.float32)\n",
    "    #print(image_list.size)\n",
    "    for n in range(DATA_NUM):\n",
    "        # choice 14 <= x <= 126 && 14 <= y <= 42\n",
    "        randx = np.random.rand()*112 + 14\n",
    "        randy = np.random.rand()*28 + 14\n",
    "        c_image = cropImage(int(randx), int(randy), 28, 28)\n",
    "        #print(c_image.shape)\n",
    "        image_list = np.vstack((image_list, c_image))\n",
    "    image_list = np.delete(image_list, 0,axis=0)\n",
    "    return image_list\n",
    "\n",
    "def random_crop_in_area(left, upper, right, lower, label):\n",
    "    image_list = np.empty(28*28,dtype=np.float32)\n",
    "    randx = np.random.randint(left, right)\n",
    "    randy = np.random.randint(upper, lower)\n",
    "    crop_img = cropImage(randx, randy, 28, 28)\n",
    "    return crop_img, label\n",
    "\n",
    "def convert_axis(label, movement):\n",
    "    m = movement\n",
    "    p = center_point_list\n",
    "    crop_area = []\n",
    "    if label == 0:\n",
    "        crop_area = (p[label][0], p[label][1], p[label][0]+m, p[label][1]+m)\n",
    "    elif label == 1:\n",
    "        crop_area = (p[label][0]-m, p[label][1], p[label][0]+m, p[label][1]+m)\n",
    "    elif label == 2:\n",
    "        crop_area = (p[label][0]-m, p[label][1], p[label][0]+m, p[label][1]+m)\n",
    "    elif label == 3:\n",
    "        crop_area =  (p[label][0]-m, p[label][1], p[label][0]+m, p[label][1]+m)\n",
    "    elif label == 4:\n",
    "        crop_area = (p[label][0]-m, p[label][1], p[label][0], p[label][1]+m)\n",
    "    elif label == 5:\n",
    "        crop_area =(p[label][0], p[label][1]-m, p[label][0]+m, p[label][1])\n",
    "    elif label == 6:\n",
    "        crop_area = (p[label][0]-m, p[label][1]-m, p[label][0]+m, p[label][1])\n",
    "    elif label == 7:\n",
    "        crop_area = (p[label][0]-m, p[label][1]-m, p[label][0]+m, p[label][1])\n",
    "    elif label == 8:\n",
    "        crop_area = (p[label][0]-m, p[label][1]-m, p[label][0]+m, p[label][1])\n",
    "    else:\n",
    "        crop_area = (p[label][0]-m, p[label][1]-m, p[label][0], p[label][1])\n",
    "    return crop_area\n",
    "'''\n",
    "label=9\n",
    "print(convert_axis(label,3))\n",
    "print(center_point_list[label])\n",
    "IMG = Image.open(\"test_image.png\")\n",
    "draw = ImageDraw.Draw(IMG)\n",
    "for l in range(10):\n",
    "    draw.rectangle((convert_axis(l,7)),fill=(0,129,129))\n",
    "plt.xticks(np.arange(0,140,14))\n",
    "plt.yticks(np.arange(0,56,14))\n",
    "plt.imshow(np.asarray((IMG)))\n",
    "#plt.clf()\n",
    "#plt.imshow(img)\n",
    "'''"
   ]
  },
  {
   "cell_type": "markdown",
   "metadata": {},
   "source": [
    "# 画像1枚の表示関数"
   ]
  },
  {
   "cell_type": "code",
   "execution_count": 4,
   "metadata": {},
   "outputs": [],
   "source": [
    "def dispImage(img_vec, label):\n",
    "    title = 'Label number is '+ str(label) \n",
    "    pixels = (img_vec * 256).reshape((28, 28))\n",
    "    plt.imshow(pixels, cmap='gray')\n",
    "    plt.axis(\"off\")\n",
    "    plt.title(title)\n",
    "    plt.show()"
   ]
  },
  {
   "cell_type": "markdown",
   "metadata": {},
   "source": [
    "# 訓練データ生成"
   ]
  },
  {
   "cell_type": "code",
   "execution_count": 5,
   "metadata": {},
   "outputs": [
    {
     "name": "stdout",
     "output_type": "stream",
     "text": [
      "int32\n"
     ]
    }
   ],
   "source": [
    "train_one_class_data_num = 25\n",
    "crop_area = 5\n",
    "X_train = np.empty(28*28, dtype=np.float32)\n",
    "L_train =np.empty(1,dtype=np.int32)\n",
    "#print(L_train.shape)\n",
    "for label in range(0,10):\n",
    "    for c in range(0,train_one_class_data_num):\n",
    "        left, upper, right, lower = convert_axis(label, crop_area)\n",
    "        c_img, l = random_crop_in_area(left, upper, right, lower,label)\n",
    "        X_train = np.vstack((X_train, c_img))\n",
    "        L_train = np.vstack((L_train, l))\n",
    "X_train = np.delete(X_train, 0,axis=0)\n",
    "L_train = np.delete(L_train, 0,axis=0)\n",
    "\n",
    "train_cnt = len(X_train)\n",
    "l_train_half = np.concatenate([L_train[0:(train_cnt/2)], np.ones((train_cnt-(train_cnt/2),1))*(-1)]).astype('int32')\n",
    "l_train_half = np.ravel(l_train_half)\n",
    "print(l_train_half.dtype)\n",
    "\n",
    "test_one_class_data_num = 20\n",
    "X_test = np.empty(28*28, dtype=np.float32)\n",
    "L_test =np.empty(1,dtype=np.int32)\n",
    "for label in range(0,10):\n",
    "    for c in range(0,test_one_class_data_num):\n",
    "        left, upper, right, lower = convert_axis(label, crop_area)\n",
    "        c_img, l = random_crop_in_area(left, upper, right, lower,label)\n",
    "        X_test = np.vstack((X_test, c_img))\n",
    "        L_test = np.vstack((L_test, l))\n",
    "X_test = np.delete(X_test, 0,axis=0)\n",
    "L_test = np.delete(L_test, 0,axis=0)\n",
    "L_test = np.ravel(L_test)\n",
    "\n",
    "#  list : [image label]  \n",
    "Xy_train = [(x, y) for x, y in zip(X_train, l_train_half)]\n",
    "Xy_test = [(x, -1) for x, y in zip(X_test, L_test)]"
   ]
  },
  {
   "cell_type": "code",
   "execution_count": 6,
   "metadata": {},
   "outputs": [],
   "source": [
    "def train(input_size, hidden_size, z_size, label_size, minibatch_size, epoch_num, X_train, output):\n",
    "    model = CVAE(input_size, z_size, hidden_size, label_size)\n",
    "    optimizer = chainer.optimizers.Adam()\n",
    "    optimizer.setup(model)\n",
    "    \n",
    "    train_iter = chainer.iterators.SerialIterator(X_train, minibatch_size)\n",
    "    for epoch in range(0, epoch_num):\n",
    "        sum_loss = 0\n",
    "        sum_rec_loss = 0\n",
    "        batch = train_iter.next()\n",
    "        x_array, t_array = convert.concat_examples(batch)\n",
    "        x = chainer.Variable(x_array)\n",
    "        t = chainer.Variable(t_array)\n",
    "        optimizer.update(model.get_loss_func(C=0.1, k=5), x, t)\n",
    "        \n",
    "        sum_loss += float(model.loss.data) * len(x.data)\n",
    "        sum_rec_loss += float(model.rec_loss.data) * len(x.data)\n",
    "        \n",
    "    chainer.serializers.save_npz(output, model)\n",
    "    print('train mean loss={}, mean reconstruction loss={}'.format(sum_loss / train_cnt, sum_rec_loss / train_cnt))\n",
    "\n",
    "def test_plot(model, X_test, L_test):\n",
    "    colors_dict = {}\n",
    "    markers = [\"*\", \"s\", \"v\", \"^\", \"8\", \"o\", \"p\", \"D\", \"p\", \"d\"]\n",
    "    cm = plt.get_cmap('jet')\n",
    "    for dic in range(0,10):\n",
    "        colors_dict[dic] = cm(1.*dic/10)\n",
    "        train_iter = chainer.iterators.SerialIterator(X_test, len(X_test), repeat=False, shuffle=False)\n",
    "    with chainer.using_config('train', False), chainer.no_backprop_mode():\n",
    "        batch = train_iter.next()\n",
    "        x_array, t_array = convert.concat_examples(batch)\n",
    "        x = chainer.Variable(x_array)\n",
    "        t = chainer.Variable(t_array)\n",
    "        x_mu, log_var = model.encode(x, t)\n",
    "        print('mu size:{}'.format(x_mu.shape))\n",
    "        print('logvar size:{}'.format(log_var.shape))\n",
    "    data_dict = {}\n",
    "    for x, y in zip(x_mu.data, L_test):\n",
    "        if y in data_dict:\n",
    "            data_dict[y].append(x)\n",
    "        else:\n",
    "            data_dict[y] = [x]\n",
    "    plt.axes(axisbg='w')\n",
    "    for y in range(0, 10):\n",
    "        data = data_dict[y]\n",
    "        xs  = [row[0] for row in data]\n",
    "        ys = [row[1] for row in data]\n",
    "        plt.scatter(xs, ys, s=150, c=colors_dict[y],marker=markers[y], label=y)\n",
    "    plt.title(\"CVAE\")\n",
    "    plt.legend(bbox_to_anchor=(1.05, 1), loc='upper left', borderaxespad=0, fontsize=13)\n",
    "    plt.grid()\n",
    "    \n",
    "def test_decode(model, x, label, output):\n",
    "    with chainer.using_config('train', False), chainer.no_backprop_mode():\n",
    "        x_v = chainer.Variable(x)\n",
    "        label_v = chainer.Variable(label)\n",
    "        y_v = model(x_v, label_v)\n",
    "        print('出力')\n",
    "        pixels = (y_v.data * 256).reshape((28, 28))\n",
    "        plt.imshow(pixels, cmap='gray')\n",
    "        plt.axis(\"off\")\n",
    "        plt.show()\n",
    "        #plt.imsave(output, pixels, cmap='gray')"
   ]
  },
  {
   "cell_type": "markdown",
   "metadata": {},
   "source": [
    "# 訓練"
   ]
  },
  {
   "cell_type": "code",
   "execution_count": 7,
   "metadata": {},
   "outputs": [
    {
     "name": "stdout",
     "output_type": "stream",
     "text": [
      "train mean loss=7.75081558228, mean reconstruction loss=7.03647460938\n"
     ]
    }
   ],
   "source": [
    "#main\n",
    "EPOCH_NUM = 1000\n",
    "INPUT_SIZE = 784\n",
    "HIDDEN_SIZE = 128\n",
    "MINIBATCH_SIZE = 100\n",
    "LABEL_SIZE = 10\n",
    "Z_SIZE = 2\n",
    "\n",
    "scores = {}\n",
    "MODEL_PATH_CVAE = './CVAE_{0}_{1}.model'.format(EPOCH_NUM, Z_SIZE)\n",
    "\n",
    "train(\n",
    "    input_size=INPUT_SIZE,\n",
    "    hidden_size=HIDDEN_SIZE,\n",
    "    z_size=Z_SIZE,\n",
    "    label_size=LABEL_SIZE,\n",
    "    minibatch_size=MINIBATCH_SIZE,\n",
    "    epoch_num=EPOCH_NUM,\n",
    "    X_train=Xy_train,\n",
    "    output=MODEL_PATH_CVAE\n",
    ")"
   ]
  },
  {
   "cell_type": "markdown",
   "metadata": {},
   "source": [
    "# 訓練した重みを使って文字を生成"
   ]
  },
  {
   "cell_type": "code",
   "execution_count": 8,
   "metadata": {},
   "outputs": [
    {
     "name": "stdout",
     "output_type": "stream",
     "text": [
      "入力\n"
     ]
    },
    {
     "data": {
      "image/png": "[encoded data removed]",
      "text/plain": [
       "<matplotlib.figure.Figure at 0x7f78389fd1d0>"
      ]
     },
     "metadata": {},
     "output_type": "display_data"
    },
    {
     "name": "stdout",
     "output_type": "stream",
     "text": [
      "出力\n"
     ]
    },
    {
     "data": {
      "image/png": "[encoded data removed]",
      "text/plain": [
       "<matplotlib.figure.Figure at 0x7f78389b8950>"
      ]
     },
     "metadata": {},
     "output_type": "display_data"
    }
   ],
   "source": [
    "INPUT_SIZE = 784\n",
    "HIDDEN_SIZE = 128\n",
    "Z_SIZE = 20\n",
    "MINIBATCH_SIZE = 100\n",
    "LABEL_SIZE = 10\n",
    "MODEL_PATH = './CVAE_1000_20.model'\n",
    "\n",
    "model = CVAE(INPUT_SIZE, Z_SIZE, HIDDEN_SIZE, LABEL_SIZE)\n",
    "chainer.serializers.load_npz(MODEL_PATH, model)\n",
    "\n",
    "print('入力')\n",
    "pixels = (X_test[[5]] * 256).reshape((28, 28))\n",
    "plt.imshow(pixels, cmap='gray')\n",
    "plt.axis(\"off\")\n",
    "plt.show()\n",
    "\n",
    "test_decode(model, X_test[[5]], np.array([-1], dtype='int32'), MODEL_PATH )"
   ]
  },
  {
   "cell_type": "markdown",
   "metadata": {},
   "source": [
    "# 画像が潜在空間のどこに分布しているのか表示"
   ]
  },
  {
   "cell_type": "code",
   "execution_count": 9,
   "metadata": {},
   "outputs": [
    {
     "name": "stdout",
     "output_type": "stream",
     "text": [
      "mu size:(200, 2)\n",
      "logvar size:(200, 2)\n"
     ]
    },
    {
     "data": {
      "image/png": "[encoded data removed]",
      "text/plain": [
       "<matplotlib.figure.Figure at 0x7f7892397bd0>"
      ]
     },
     "metadata": {},
     "output_type": "display_data"
    }
   ],
   "source": [
    "\n",
    "INPUT_SIZE = 784\n",
    "HIDDEN_SIZE = 128\n",
    "Z_SIZE = 2\n",
    "MINIBATCH_SIZE = 100\n",
    "LABEL_SIZE = 10\n",
    "MODEL_PATH = './CVAE_1000_2.model'\n",
    "model = CVAE(INPUT_SIZE, Z_SIZE, HIDDEN_SIZE, LABEL_SIZE)\n",
    "chainer.serializers.load_npz(MODEL_PATH, model)\n",
    "test_plot(model, Xy_test[0:len(L_test)], L_test[0:len(L_test)])"
   ]
  },
  {
   "cell_type": "code",
   "execution_count": null,
   "metadata": {},
   "outputs": [],
   "source": []
  }
 ],
 "metadata": {
  "kernelspec": {
   "display_name": "Python 2",
   "language": "python",
   "name": "python2"
  },
  "language_info": {
   "codemirror_mode": {
    "name": "ipython",
    "version": 2
   },
   "file_extension": ".py",
   "mimetype": "text/x-python",
   "name": "python",
   "nbconvert_exporter": "python",
   "pygments_lexer": "ipython2",
   "version": "2.7.12"
  }
 },
 "nbformat": 4,
 "nbformat_minor": 2
}
