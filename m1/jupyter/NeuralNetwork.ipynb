{
 "cells": [
  {
   "cell_type": "code",
   "execution_count": 1,
   "metadata": {},
   "outputs": [],
   "source": [
    "import tensorflow as tf\n",
    "import numpy as np\n",
    "import matplotlib.pyplot as plt\n",
    "import pandas as pd\n",
    "import os\n",
    "%matplotlib inline\n",
    "\n",
    "config = tf.ConfigProto(\n",
    "    gpu_options=tf.GPUOptions(\n",
    "    allow_growth=True\n",
    "    ))\n",
    "data = pd.DataFrame()"
   ]
  },
  {
   "cell_type": "code",
   "execution_count": 2,
   "metadata": {},
   "outputs": [
    {
     "name": "stdout",
     "output_type": "stream",
     "text": [
      "../data/LOG_G/x1500-y-1100_fix_ball_robot_recovery_action/stable/log201808071317.csv\n",
      "../data/LOG_G/x1500-y-1100_fix_ball_robot_recovery_action/stable/log201808071320.csv\n",
      "../data/LOG_G/x1500-y-1100_fix_ball_robot_recovery_action/stable/log201808061458.csv\n",
      "../data/LOG_G/x1500-y-1100_fix_ball_robot_recovery_action/stable/log201808061526.csv\n",
      "../data/LOG_G/x1500-y-1100_fix_ball_robot_recovery_action/stable/log201808061727.csv\n",
      "../data/LOG_G/x1500-y-1100_fix_ball_robot_recovery_action/stable/log201808061453.csv\n",
      "../data/LOG_G/x1500-y-1100_fix_ball_robot_recovery_action/stable/log201808061510.csv\n",
      "../data/LOG_G/x1500-y-1100_fix_ball_robot_recovery_action/stable/log201808061520.csv\n",
      "../data/LOG_G/x1500-y-1100_fix_ball_robot_recovery_action/stable/log201808071200.csv\n"
     ]
    }
   ],
   "source": [
    "# Recovery action の入ったデータ\n",
    "\n",
    "r_path = '../data/LOG_G/x1500-y-1100_fix_ball_robot_recovery_action/stable/'\n",
    "contents = os.listdir(r_path)\n",
    "num = 0\n",
    "for c in range(len(contents)):\n",
    "    print(r_path+contents[c])\n",
    "    n_data = pd.read_csv(r_path+contents[c],header=None)\n",
    "    data = pd.concat([data,n_data])\n"
   ]
  },
  {
   "cell_type": "code",
   "execution_count": 3,
   "metadata": {},
   "outputs": [
    {
     "name": "stdout",
     "output_type": "stream",
     "text": [
      "../data/LOG_G/fix_ball_robot/bk_stable/log201808031448.csv\n",
      "../data/LOG_G/fix_ball_robot/bk_stable/log201808031442.csv\n",
      "../data/LOG_G/fix_ball_robot/bk_stable/log201808031431.csv\n",
      "../data/LOG_G/fix_ball_robot/bk_stable/log201808031503.csv\n",
      "../data/LOG_G/fix_ball_robot/bk_stable/log201808031429.csv\n",
      "../data/LOG_G/fix_ball_robot/bk_stable/log201808031508.csv\n",
      "../data/LOG_G/fix_ball_robot/bk_stable/log201808031618.csv\n"
     ]
    }
   ],
   "source": [
    "# ブレることなくボールをゴールに運んだデータ\n",
    "r_path = '../data/LOG_G/fix_ball_robot/bk_stable/'\n",
    "contents = os.listdir(r_path)\n",
    "num = 0\n",
    "for c in range(len(contents)):\n",
    "    print(r_path+contents[c])\n",
    "    n_data = pd.read_csv(r_path+contents[c],header=None)\n",
    "    data = pd.concat([data,n_data])\n",
    "d = data"
   ]
  },
  {
   "cell_type": "code",
   "execution_count": 4,
   "metadata": {},
   "outputs": [
    {
     "data": {
      "text/plain": [
       "\"\\ntarget_path = '/home/yota/workspace/Study/m1/data/LOG_G/ConvertData/convData.csv'\\ndata = pd.read_csv(target_path,header=None)\\n\\nprint(data)\\nd = data\\n#print(ball)\\n#print(joy)\\n\""
      ]
     },
     "execution_count": 4,
     "metadata": {},
     "output_type": "execute_result"
    }
   ],
   "source": [
    "# ブレることなくボールをゴールに運んだデータをまとめたもの\n",
    "'''\n",
    "target_path = '/home/yota/workspace/Study/m1/data/LOG_G/ConvertData/convData.csv'\n",
    "data = pd.read_csv(target_path,header=None)\n",
    "\n",
    "print(data)\n",
    "d = data\n",
    "#print(ball)\n",
    "#print(joy)\n",
    "'''"
   ]
  },
  {
   "cell_type": "code",
   "execution_count": 5,
   "metadata": {},
   "outputs": [],
   "source": [
    "d.columns = ['l_bx','l_by','l_pole0x','l_pole0y','l_pole1x','l_pole1y','g_bx','g_by','g_pole0x','g_pole0y','g_pole1x','g_pole1y','g_px','g_py','g_pth','ljx','ljy','rjx','rjy']\n",
    "#d = d[d.bx!=-1]"
   ]
  },
  {
   "cell_type": "code",
   "execution_count": 6,
   "metadata": {},
   "outputs": [
    {
     "data": {
      "text/plain": [
       "'\\nfrom sklearn.cross_validation import train_test_split\\nt1 = []\\nt2 = []\\ndef f1(x,y):\\n    return y * np.sin(x) + np.square(x)\\ndef f2(x,y):\\n    return x * np.cos(y) + np.square(y)\\nfor a in range(1000):\\n    r = np.array([np.random.rand(), np.random.rand()])\\n    t1.append(r)\\n    t2.append(np.array([ f1(r[0],r[1]),f2(r[0],r[1]) ]))\\nIN_train, IN_test, TAR_train, TAR_test = train_test_split(t1,t2,test_size=0.2,random_state=0)\\n\\nIN_train = np.array(IN_train)\\nIN_test = np.array(IN_test)\\nTAR_train = np.array(TAR_train)\\nTAR_test = np.array(TAR_test)\\nprint(IN_train[0])\\nprint(IN_test[0])\\nprint(TAR_train[0])\\nprint(TAR_test[0])\\nprint(f1(1,1))\\nprint(f2(1,1))\\n'"
      ]
     },
     "execution_count": 6,
     "metadata": {},
     "output_type": "execute_result"
    }
   ],
   "source": [
    "'''\n",
    "from sklearn.cross_validation import train_test_split\n",
    "t1 = []\n",
    "t2 = []\n",
    "def f1(x,y):\n",
    "    return y * np.sin(x) + np.square(x)\n",
    "def f2(x,y):\n",
    "    return x * np.cos(y) + np.square(y)\n",
    "for a in range(1000):\n",
    "    r = np.array([np.random.rand(), np.random.rand()])\n",
    "    t1.append(r)\n",
    "    t2.append(np.array([ f1(r[0],r[1]),f2(r[0],r[1]) ]))\n",
    "IN_train, IN_test, TAR_train, TAR_test = train_test_split(t1,t2,test_size=0.2,random_state=0)\n",
    "\n",
    "IN_train = np.array(IN_train)\n",
    "IN_test = np.array(IN_test)\n",
    "TAR_train = np.array(TAR_train)\n",
    "TAR_test = np.array(TAR_test)\n",
    "print(IN_train[0])\n",
    "print(IN_test[0])\n",
    "print(TAR_train[0])\n",
    "print(TAR_test[0])\n",
    "print(f1(1,1))\n",
    "print(f2(1,1))\n",
    "'''"
   ]
  },
  {
   "cell_type": "code",
   "execution_count": 7,
   "metadata": {},
   "outputs": [
    {
     "name": "stdout",
     "output_type": "stream",
     "text": [
      "[[3.54059133 1.28491832]\n",
      " [3.54059133 1.28491832]\n",
      " [3.54059133 1.28491832]\n",
      " ...\n",
      " [0.68237375 0.38046803]\n",
      " [0.68095685 0.38092266]\n",
      " [0.68095685 0.38092266]]\n"
     ]
    }
   ],
   "source": [
    "l_ball = np.array(d.iloc[:,0:2])   #  0, 1\n",
    "l_pole0 = np.array(d.iloc[:,2:4])  #  2, 3\n",
    "l_pole1 = np.array(d.iloc[:,4:6])  #  4, 5\n",
    "g_ball = np.array(d.iloc[:,6:8])   #  6, 7\n",
    "g_pole0 = np.array(d.iloc[:,8:10]) #  8, 9\n",
    "g_pole1 = np.array(d.iloc[:,10:12])# 10,11\n",
    "g_pos = np.array(d.iloc[:,12:15])  # 12,13,14\n",
    "ljoy = np.array(d.iloc[:,15:17])   # 15,16\n",
    "rjoy = np.array(d.iloc[:,17:19])   # 17,18\n",
    "\n",
    "cl_goal = (l_pole0+l_pole1)/2\n",
    "print(cl_goal)"
   ]
  },
  {
   "cell_type": "code",
   "execution_count": 8,
   "metadata": {
    "scrolled": true
   },
   "outputs": [
    {
     "ename": "SyntaxError",
     "evalue": "invalid syntax (<ipython-input-8-a3c71355f8d0>, line 25)",
     "output_type": "error",
     "traceback": [
      "\u001b[0;36m  File \u001b[0;32m\"<ipython-input-8-a3c71355f8d0>\"\u001b[0;36m, line \u001b[0;32m25\u001b[0m\n\u001b[0;31m    input_d = np.array([l_ball cl_goal])\u001b[0m\n\u001b[0m                                     ^\u001b[0m\n\u001b[0;31mSyntaxError\u001b[0m\u001b[0;31m:\u001b[0m invalid syntax\n"
     ]
    }
   ],
   "source": [
    "from sklearn.cross_validation import train_test_split\n",
    "\n",
    "IN_size = 4\n",
    "TAR_size = 3\n",
    "'''\n",
    "l_ball = np.array(d.iloc[:,0:2])   #  0, 1\n",
    "l_pole0 = np.array(d.iloc[:,2:4])  #  2, 3\n",
    "l_pole1 = np.array(d.iloc[:,4:6])  #  4, 5\n",
    "g_ball = np.array(d.iloc[:,6:8])   #  6, 7\n",
    "g_pole0 = np.array(d.iloc[:,8:10]) #  8, 9\n",
    "g_pole1 = np.array(d.iloc[:,10:12])# 10,11\n",
    "g_pos = np.array(d.iloc[:,12:15])  # 12,13,14\n",
    "ljoy = np.array(d.iloc[:,15:17])   # 15,16\n",
    "rjoy = np.array(d.iloc[:,17:19])   # 17,18\n",
    "\n",
    "l_ball = np.array(d.iloc[:,0:2])   #  0, 1\n",
    "lc_goal = np.array(d.iloc[:,2:4])  #  2, 3\n",
    "g_ball = np.array(d.iloc[:,4:6])   #  4, 5\n",
    "g_pole0 = np.array(d.iloc[:,6:8]) #  6, 7\n",
    "g_pole1 = np.array(d.iloc[:,8:10])# 8,9\n",
    "g_pos = np.array(d.iloc[:,10:13])  # 10,11,12\n",
    "ljoy = np.array(d.iloc[:,13:15])   # 13,14\n",
    "rjoy = np.array(d.iloc[:,15:17])   # 15,16\n",
    "'''\n",
    "input_d = np.array([l_ball cl_goal])\n",
    "print(input_d)\n",
    "output_d = np.array(d.iloc[:,13:16])\n",
    "print(input_d.shape)\n",
    "print(output_d.shape)\n",
    "\n",
    "\n",
    "\n",
    "IN_train, IN_test, TAR_train, TAR_test = train_test_split(input_d,output_d,test_size=0.1,random_state=0)\n",
    "#X_train, X_test, y_train, y_test = train_test_split(X,y, random_state=0)\n",
    "#IN_train = IN_train/100.0\n",
    "#IN_test = IN_test/100.0\n",
    "for t in range(10):\n",
    "    print(IN_train[t])\n",
    "'''\n",
    "print(IN_train[0])\n",
    "print(IN_test[0])\n",
    "print(TAR_train[0])\n",
    "print(TAR_test[0])\n",
    "'''"
   ]
  },
  {
   "cell_type": "code",
   "execution_count": null,
   "metadata": {},
   "outputs": [],
   "source": [
    "#　初期化\n",
    "sess = tf.Session(config=config)\n",
    "test_sess = tf.Session(config=config)\n",
    "\n",
    "INPUT = tf.placeholder(shape=[None, IN_size], dtype=tf.float32)\n",
    "TARGET = tf.placeholder(shape=[None, TAR_size], dtype=tf.float32)"
   ]
  },
  {
   "cell_type": "code",
   "execution_count": null,
   "metadata": {
    "scrolled": false
   },
   "outputs": [],
   "source": [
    "#hidden_size = [100]\n",
    "hidden_size = [30,8]\n",
    "batch_size = 100\n",
    "iter_size = 200000\n",
    "\n",
    "#　隠れ層の作成 （last layerに直結）\n",
    "weights = []\n",
    "biases = []\n",
    "layers = []\n",
    "tmp_size = IN_size\n",
    "last_layer = INPUT\n",
    "for hsize in hidden_size:\n",
    "    weights.append(tf.Variable(tf.random_normal(shape=[tmp_size, hsize])))\n",
    "    biases.append(tf.Variable(tf.random_normal(shape=[hsize])))\n",
    "    layers.append(tf.nn.relu(tf.add(tf.matmul(last_layer, weights[-1]), biases[-1]))) # 活性化関数\n",
    "    tmp_size = hsize\n",
    "    last_layer = layers[-1]\n",
    "    print(layers[-1])\n",
    "#　出力層\n",
    "weights.append(tf.Variable(tf.random_normal(shape=[tmp_size, TAR_size])))\n",
    "biases.append(tf.Variable(tf.random_normal(shape=[TAR_size])))\n",
    "layers.append(tf.add(tf.matmul(last_layer, weights[-1]), biases[-1]))\n",
    "final_output = layers[-1]\n",
    "print(final_output)"
   ]
  },
  {
   "cell_type": "code",
   "execution_count": null,
   "metadata": {
    "scrolled": true
   },
   "outputs": [],
   "source": [
    "#　学習\n",
    "loss = tf.losses.mean_squared_error(TARGET,final_output)\n",
    "test_loss = tf.losses.mean_squared_error(TARGET,final_output)\n",
    "opt = tf.train.AdamOptimizer(0.001)\n",
    "#opt = tf.train.GradientDescentOptimizer(0.01)\n",
    "train_step = opt.minimize(loss)\n",
    "init = tf.global_variables_initializer()\n",
    "sess.run(init)\n",
    "test_sess.run(init)\n",
    "loss_vec=[]\n",
    "test_loss_vec=[]\n",
    "for i in range(iter_size):\n",
    "    train_rand_index = np.random.choice(len(IN_train), size=batch_size,replace=False)\n",
    "    train_rand_in = IN_train[train_rand_index]\n",
    "    train_rand_tar = TAR_train[train_rand_index]\n",
    "    sess.run(train_step, feed_dict={INPUT:train_rand_in, TARGET: train_rand_tar})\n",
    "    loss_vec.append(sess.run(loss, feed_dict={INPUT:train_rand_in, TARGET: train_rand_tar}))\n",
    "    \n",
    "    test_rand_index = np.random.choice(len(IN_test), size=batch_size,replace=False)\n",
    "    test_rand_in = IN_test[test_rand_index]\n",
    "    test_rand_tar = TAR_test[test_rand_index]\n",
    "    test_sess.run(train_step, feed_dict={INPUT:test_rand_in, TARGET: test_rand_tar})\n",
    "    test_loss_vec.append(test_sess.run(test_loss, feed_dict={INPUT:test_rand_in, TARGET: test_rand_tar}))\n",
    "    \n",
    "    if (i+1)%100==0:\n",
    "#        print(sess.run(INPUT, feed_dict={INPUT:rand_in, TARGET: rand_tar}))\n",
    "        print('Generation:'+str(i+1)+', Loss = '+str(loss_vec[-1]))"
   ]
  },
  {
   "cell_type": "code",
   "execution_count": null,
   "metadata": {
    "scrolled": false
   },
   "outputs": [],
   "source": [
    "fig = plt.figure()\n",
    "ax = fig.add_subplot(1, 1, 1)\n",
    "plt.grid()\n",
    "plt.plot(loss_vec,c='b',linestyle='solid',label='train loss')\n",
    "plt.plot(test_loss_vec,c='r',label='test loss')\n",
    "\n",
    "#plt.xlim(60000,60100)\n",
    "plt.ylim(0,0.5)\n",
    "ax.set_xlabel('iteration')\n",
    "ax.set_ylabel('loss')\n",
    "plt.savefig(str(hidden_size)+'.png')\n",
    "plt.legend()\n",
    "\n",
    "\n",
    "#print(test_loss_vec[99999])\n",
    "#print(test_loss_vec[99999])"
   ]
  },
  {
   "cell_type": "code",
   "execution_count": null,
   "metadata": {
    "scrolled": true
   },
   "outputs": [],
   "source": [
    "# 重みの保存\n",
    "saver = tf.train.Saver()\n",
    "saver.save(sess, './model.ckpt')\n"
   ]
  },
  {
   "cell_type": "code",
   "execution_count": null,
   "metadata": {},
   "outputs": [],
   "source": [
    "'''\n",
    "# ボール座標とスティックの傾きプロット\n",
    "by_max=IN_train.max(axis=0)[1]\n",
    "by_min=IN_train.min(axis=0)[1]\n",
    "\n",
    "ball_y = np.array(range(int(by_min)-3,int(by_max)+3))\n",
    "for i in range(len(ball_y)):\n",
    "    \n",
    "    ball = np.array([[6.0, ball_y[i]/10.0]])\n",
    "    \n",
    "    print(ball)\n",
    "    joy = sess.run(final_output, feed_dict={INPUT: ball})\n",
    "    plt.scatter(ball[0][1],ball[0][0], s=200, c='orange')\n",
    "    \n",
    "    plt.quiver(0,0,-joy[0][0],-joy[0][1],angles=\"xy\",scale_units=\"xy\",scale=1)\n",
    "    #plt.quiver(0,0,-0.6,5,angles=\"xy\",scale_units=\"xy\",scale=1)\n",
    "    print(joy)\n",
    "    plt.savefig(str(hidden_size)+'_img'+'.png')\n",
    "    '''"
   ]
  },
  {
   "cell_type": "code",
   "execution_count": null,
   "metadata": {},
   "outputs": [],
   "source": [
    "# 重みのrestore\n",
    "predicts_sess = tf.Session(config=config)\n",
    "ckpt = tf.train.get_checkpoint_state('./')\n",
    "if ckpt == None:\n",
    "    print('!!!!!!!WEIGHTS NOT FOUND!!!!!!')\n",
    "\n",
    "saver.restore(predicts_sess, './model.ckpt')"
   ]
  }
 ],
 "metadata": {
  "kernelspec": {
   "display_name": "Python 3",
   "language": "python",
   "name": "python3"
  },
  "language_info": {
   "codemirror_mode": {
    "name": "ipython",
    "version": 3
   },
   "file_extension": ".py",
   "mimetype": "text/x-python",
   "name": "python",
   "nbconvert_exporter": "python",
   "pygments_lexer": "ipython3",
   "version": "3.5.2"
  }
 },
 "nbformat": 4,
 "nbformat_minor": 2
}
