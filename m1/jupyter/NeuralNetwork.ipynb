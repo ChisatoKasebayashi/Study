{
 "cells": [
  {
   "cell_type": "code",
   "execution_count": 1,
   "metadata": {},
   "outputs": [],
   "source": [
    "import tensorflow as tf\n",
    "import numpy as np\n",
    "import matplotlib.pyplot as plt\n",
    "%matplotlib inline"
   ]
  },
  {
   "cell_type": "markdown",
   "metadata": {},
   "source": [
    "#　訓練データ\n",
    "import requests\n",
    "import csv\n",
    "import os\n",
    "import pandas as pd\n",
    "from sklearn.cross_validation import train_test_split\n",
    "\n",
    "birthdata_url = 'https://raw.githubusercontent.com/nfmcclure/tensorflow_cookbook/master/01_Introduction/07_Working_with_Data_Sources/birthweight_data/birthweight.dat'\n",
    "birth_file = requests.get(birthdata_url)\n",
    "birth_data = birth_file.text.split('\\r\\n')\n",
    "birth_header = birth_data[0].split('\\t')\n",
    "birth_data = [[float(x) for x in y.split('\\t') if len(x) >= 1]  \n",
    "              for y in birth_data[1:] if len(y) >= 1]\n",
    "\n",
    "with open(\"birth_weight.csv\", \"w\") as f:\n",
    "    writer = csv.writer(f)\n",
    "    writer.writerows([birth_header])\n",
    "    writer.writerows(birth_data)\n",
    "    f.close()\n",
    "\n",
    "def normalize_cols(m):\n",
    "    col_max = m.max(axis=0)\n",
    "    col_min = m.min(axis=0)\n",
    "    return np.nan_to_num((m-col_min)/(col_max-col_min))\n",
    "\n",
    "df = pd.read_csv(\"birth_weight.csv\")\n",
    "target_name = [\"BWT\"]\n",
    "X, y = df[df.columns.drop(target_name)], df[target_name]\n",
    "X, y = X.as_matrix(), y.as_matrix()\n",
    "X = normalize_cols(X)\n",
    "X_train, X_test, y_train, y_test = train_test_split(X,y, random_state=0)\n",
    "print(X.shape)\n",
    "print(y.shape)\n",
    "print(X_train.shape)\n",
    "print(y_train.shape)"
   ]
  },
  {
   "cell_type": "code",
   "execution_count": 2,
   "metadata": {},
   "outputs": [
    {
     "name": "stderr",
     "output_type": "stream",
     "text": [
      "C:\\Users\\cihsato\\Anaconda3\\envs\\tensorflow16\\lib\\site-packages\\sklearn\\cross_validation.py:41: DeprecationWarning: This module was deprecated in version 0.18 in favor of the model_selection module into which all the refactored classes and functions are moved. Also note that the interface of the new CV iterators are different from that of this module. This module will be removed in 0.20.\n",
      "  \"This module will be removed in 0.20.\", DeprecationWarning)\n"
     ]
    }
   ],
   "source": [
    "import pandas as pd\n",
    "from sklearn.cross_validation import train_test_split\n",
    "\n",
    "data = np.loadtxt('../data/chisato/goal/log201805261417.csv', delimiter=',', dtype='float')\n",
    "#print(data.shape)\n",
    "rx = np.array([data[:,0]])\n",
    "ry = np.array([data[:,1]])\n",
    "jx = np.array([data[:,2]])\n",
    "jy = np.array([data[:,3]])\n",
    "robo = np.transpose(np.concatenate([rx,ry],axis=0))\n",
    "joy = np.transpose(np.concatenate([jx,jy],axis=0))\n",
    "X_train, X_test, y_train, y_test = train_test_split(robo,joy,test_size=0.2,random_state=0)\n",
    "#X_train, X_test, y_train, y_test = train_test_split(X,y, random_state=0)"
   ]
  },
  {
   "cell_type": "code",
   "execution_count": 3,
   "metadata": {},
   "outputs": [],
   "source": [
    "#　初期化\n",
    "X = X_train\n",
    "y = y_train.ravel()\n",
    "sess = tf.Session()\n",
    "seed = 3\n",
    "tf.set_random_seed(seed)\n",
    "np.random.seed(seed)\n",
    "\n",
    "x_data = tf.placeholder(shape=[None, X.shape[1]], dtype=tf.float32)\n",
    "y_target = tf.placeholder(shape=[None, 1], dtype=tf.float32)"
   ]
  },
  {
   "cell_type": "code",
   "execution_count": 4,
   "metadata": {
    "scrolled": false
   },
   "outputs": [
    {
     "name": "stdout",
     "output_type": "stream",
     "text": [
      "Tensor(\"Relu:0\", shape=(?, 25), dtype=float32)\n",
      "Tensor(\"Relu_1:0\", shape=(?, 10), dtype=float32)\n",
      "Tensor(\"Relu_2:0\", shape=(?, 3), dtype=float32)\n",
      "Tensor(\"Relu_3:0\", shape=(?, 2), dtype=float32)\n"
     ]
    }
   ],
   "source": [
    "hidden_size = [25, 10, 3]\n",
    "batch_size = 100\n",
    "iter_size = 200\n",
    "\n",
    "#　隠れ層の作成 （last layerに直結）\n",
    "weights = []\n",
    "biases = []\n",
    "layers = []\n",
    "tmp_size = X.shape[1]\n",
    "last_layer = x_data\n",
    "for hsize in hidden_size:\n",
    "    weights.append(tf.Variable(tf.random_normal(shape=[tmp_size, hsize], stddev=10.0)))\n",
    "    biases.append(tf.Variable(tf.random_normal(shape=[hsize], stddev=10.0)))\n",
    "    layers.append(tf.nn.relu(tf.add(tf.matmul(last_layer, weights[-1]), biases[-1]))) # 活性化関数\n",
    "    tmp_size = hsize\n",
    "    last_layer = layers[-1]\n",
    "    print(layers[-1])\n",
    "#　出力層\n",
    "weights.append(tf.Variable(tf.random_normal(shape=[tmp_size, 2], stddev=10.0)))\n",
    "biases.append(tf.Variable(tf.random_normal(shape=[2], stddev=10.0)))\n",
    "layers.append(tf.nn.relu(tf.add(tf.matmul(last_layer, weights[-1]), biases[-1])))\n",
    "final_output = layers[-1]\n",
    "print(final_output)"
   ]
  },
  {
   "cell_type": "code",
   "execution_count": 5,
   "metadata": {
    "scrolled": true
   },
   "outputs": [
    {
     "name": "stdout",
     "output_type": "stream",
     "text": [
      "Generation:25, Loss = 0.5115454\n",
      "Generation:50, Loss = 0.57711184\n",
      "Generation:75, Loss = 0.56845397\n",
      "Generation:100, Loss = 0.6272168\n",
      "Generation:125, Loss = 0.53309083\n",
      "Generation:150, Loss = 0.5903073\n",
      "Generation:175, Loss = 0.6061862\n",
      "Generation:200, Loss = 0.57237184\n"
     ]
    }
   ],
   "source": [
    "#　学習\n",
    "loss = tf.reduce_mean(tf.abs(y_target - final_output))\n",
    "opt = tf.train.AdamOptimizer(0.05)\n",
    "train_step = opt.minimize(loss)\n",
    "init = tf.global_variables_initializer()\n",
    "sess.run(init)\n",
    "loss_vec=[]\n",
    "for i in range(iter_size):\n",
    "    rand_index = np.random.choice(len(X), size=batch_size)\n",
    "    rand_x = X[rand_index]\n",
    "    rand_y = np.transpose([y[rand_index]])\n",
    "    sess.run(train_step, feed_dict={x_data:rand_x, y_target: rand_y})\n",
    "    loss_vec.append(sess.run(loss, feed_dict={x_data:rand_x, y_target: rand_y}))\n",
    "    if (i+1)%25==0:\n",
    "        print('Generation:'+str(i+1)+', Loss = '+str(loss_vec[-1]))"
   ]
  },
  {
   "cell_type": "code",
   "execution_count": 6,
   "metadata": {},
   "outputs": [
    {
     "data": {
      "text/plain": [
       "[<matplotlib.lines.Line2D at 0x28945276eb8>]"
      ]
     },
     "execution_count": 6,
     "metadata": {},
     "output_type": "execute_result"
    },
    {
     "data": {
      "image/png": "[encoded data removed]",
      "text/plain": [
       "<Figure size 432x288 with 1 Axes>"
      ]
     },
     "metadata": {},
     "output_type": "display_data"
    }
   ],
   "source": [
    "plt.plot(loss_vec)"
   ]
  }
 ],
 "metadata": {
  "kernelspec": {
   "display_name": "Python 3",
   "language": "python",
   "name": "python3"
  },
  "language_info": {
   "codemirror_mode": {
    "name": "ipython",
    "version": 3
   },
   "file_extension": ".py",
   "mimetype": "text/x-python",
   "name": "python",
   "nbconvert_exporter": "python",
   "pygments_lexer": "ipython3",
   "version": "3.6.5"
  }
 },
 "nbformat": 4,
 "nbformat_minor": 2
}
