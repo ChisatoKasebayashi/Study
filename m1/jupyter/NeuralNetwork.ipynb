{
 "cells": [
  {
   "cell_type": "code",
   "execution_count": null,
   "metadata": {},
   "outputs": [],
   "source": [
    "import tensorflow as tf\n",
    "import numpy as np\n",
    "import matplotlib.pyplot as plt\n",
    "%matplotlib inline"
   ]
  },
  {
   "cell_type": "code",
   "execution_count": null,
   "metadata": {},
   "outputs": [],
   "source": [
    "import pandas as pd\n",
    "import os\n",
    "target_path = '../data/chisato/goal/'\n",
    "contents = os.listdir(target_path)\n",
    "data = pd.DataFrame()\n",
    "num = 0\n",
    "for c in range(len(contents)):\n",
    "    print(target_path+contents[c])\n",
    "    n_data = pd.read_csv(target_path+contents[c],header=None)\n",
    "    data = pd.concat([data,n_data])\n",
    "\n",
    "print(len(data))\n",
    "d = data\n",
    "#print(ball)\n",
    "#print(joy)"
   ]
  },
  {
   "cell_type": "code",
   "execution_count": null,
   "metadata": {},
   "outputs": [],
   "source": [
    "d.columns = ['bx','by','jx','jy']\n",
    "d = d[d.bx!=-1]"
   ]
  },
  {
   "cell_type": "code",
   "execution_count": null,
   "metadata": {},
   "outputs": [],
   "source": [
    "'''\n",
    "from sklearn.cross_validation import train_test_split\n",
    "t1 = []\n",
    "t2 = []\n",
    "def f1(x,y):\n",
    "    return y * np.sin(x) + np.square(x)\n",
    "def f2(x,y):\n",
    "    return x * np.cos(y) + np.square(y)\n",
    "for a in range(1000):\n",
    "    r = np.array([np.random.rand(), np.random.rand()])\n",
    "    t1.append(r)\n",
    "    t2.append(np.array([ f1(r[0],r[1]),f2(r[0],r[1]) ]))\n",
    "IN_train, IN_test, TAR_train, TAR_test = train_test_split(t1,t2,test_size=0.2,random_state=0)\n",
    "\n",
    "IN_train = np.array(IN_train)\n",
    "IN_test = np.array(IN_test)\n",
    "TAR_train = np.array(TAR_train)\n",
    "TAR_test = np.array(TAR_test)\n",
    "print(IN_train[0])\n",
    "print(IN_test[0])\n",
    "print(TAR_train[0])\n",
    "print(TAR_test[0])\n",
    "print(f1(1,1))\n",
    "print(f2(1,1))\n",
    "'''"
   ]
  },
  {
   "cell_type": "code",
   "execution_count": null,
   "metadata": {},
   "outputs": [],
   "source": [
    "from sklearn.cross_validation import train_test_split\n",
    "ball = np.array(d.iloc[:,0:2])\n",
    "joy = np.array(d.iloc[:,2:4])\n",
    "IN_train, IN_test, TAR_train, TAR_test = train_test_split(ball,joy,test_size=0.2,random_state=0)\n",
    "#X_train, X_test, y_train, y_test = train_test_split(X,y, random_state=0)\n",
    "IN_train = IN_train/100.0\n",
    "IN_test = IN_test/100.0\n",
    "for t in range(10):\n",
    "    print(IN_train[t])\n",
    "'''\n",
    "print(IN_train[0])\n",
    "print(IN_test[0])\n",
    "print(TAR_train[0])\n",
    "print(TAR_test[0])\n",
    "'''"
   ]
  },
  {
   "cell_type": "code",
   "execution_count": null,
   "metadata": {},
   "outputs": [],
   "source": [
    "#　初期化\n",
    "sess = tf.Session()\n",
    "\n",
    "IN_size = 2\n",
    "TAR_size = 2\n",
    "INPUT = tf.placeholder(shape=[None, IN_size], dtype=tf.float32)\n",
    "TARGET = tf.placeholder(shape=[None, TAR_size], dtype=tf.float32)"
   ]
  },
  {
   "cell_type": "code",
   "execution_count": null,
   "metadata": {
    "scrolled": false
   },
   "outputs": [],
   "source": [
    "hidden_size = [25]\n",
    "batch_size = 100\n",
    "iter_size = 50000\n",
    "\n",
    "#　隠れ層の作成 （last layerに直結）\n",
    "weights = []\n",
    "biases = []\n",
    "layers = []\n",
    "tmp_size = IN_size\n",
    "last_layer = INPUT\n",
    "for hsize in hidden_size:\n",
    "    weights.append(tf.Variable(tf.random_normal(shape=[tmp_size, hsize], stddev=10.0)))\n",
    "    biases.append(tf.Variable(tf.random_normal(shape=[hsize], stddev=10.0)))\n",
    "    layers.append(tf.nn.relu(tf.add(tf.matmul(last_layer, weights[-1]), biases[-1]))) # 活性化関数\n",
    "    tmp_size = hsize\n",
    "    last_layer = layers[-1]\n",
    "    print(layers[-1])\n",
    "#　出力層\n",
    "weights.append(tf.Variable(tf.random_normal(shape=[tmp_size, TAR_size], stddev=10.0)))\n",
    "biases.append(tf.Variable(tf.random_normal(shape=[TAR_size], stddev=10.0)))\n",
    "layers.append(tf.add(tf.matmul(last_layer, weights[-1]), biases[-1]))\n",
    "final_output = layers[-1]\n",
    "print(final_output)"
   ]
  },
  {
   "cell_type": "code",
   "execution_count": null,
   "metadata": {
    "scrolled": true
   },
   "outputs": [],
   "source": [
    "#　学習\n",
    "loss = tf.losses.mean_squared_error(TARGET,final_output)\n",
    "opt = tf.train.AdamOptimizer(0.001)\n",
    "#opt = tf.train.GradientDescentOptimizer(0.01)\n",
    "train_step = opt.minimize(loss)\n",
    "init = tf.global_variables_initializer()\n",
    "sess.run(init)\n",
    "loss_vec=[]\n",
    "for i in range(iter_size):\n",
    "    rand_index = np.random.choice(len(IN_train), size=batch_size,replace=False)\n",
    "    rand_in = IN_train[rand_index]\n",
    "    rand_tar = TAR_train[rand_index]\n",
    "    sess.run(train_step, feed_dict={INPUT:rand_in, TARGET: rand_tar})\n",
    "    loss_vec.append(sess.run(loss, feed_dict={INPUT:rand_in, TARGET: rand_tar}))\n",
    "    if (i+1)%25==0:\n",
    "#        print(sess.run(INPUT, feed_dict={INPUT:rand_in, TARGET: rand_tar}))\n",
    "        print('Generation:'+str(i+1)+', Loss = '+str(loss_vec[-1]))"
   ]
  },
  {
   "cell_type": "code",
   "execution_count": null,
   "metadata": {
    "scrolled": true
   },
   "outputs": [],
   "source": [
    "fig = plt.figure()\n",
    "ax = fig.add_subplot(1, 1, 1)\n",
    "plt.grid()\n",
    "plt.plot(loss_vec)\n",
    "#plt.xlim(0,25)\n",
    "plt.ylim(0,2)\n",
    "ax.set_xlabel('iteration')\n",
    "ax.set_ylabel('loss')\n",
    "plt.savefig(str(hidden_size)+'.png')"
   ]
  },
  {
   "cell_type": "code",
   "execution_count": null,
   "metadata": {
    "scrolled": true
   },
   "outputs": [],
   "source": [
    "# 重みの保存\n",
    "saver = tf.train.Saver()\n",
    "saver.save(sess, './model.ckpt')\n"
   ]
  },
  {
   "cell_type": "code",
   "execution_count": null,
   "metadata": {},
   "outputs": [],
   "source": [
    "# ボール座標とスティックの傾きプロット\n",
    "by_max=IN_train.max(axis=0)[1]\n",
    "by_min=IN_train.min(axis=0)[1]\n",
    "\n",
    "ball_y = np.array(range(int(by_min)-3,int(by_max)+3))\n",
    "for i in range(len(ball_y)):\n",
    "    \n",
    "    ball = np.array([[6.0, ball_y[i]/10.0]])\n",
    "    \n",
    "    print(ball)\n",
    "    joy = sess.run(final_output, feed_dict={INPUT: ball})\n",
    "    plt.scatter(ball[0][1],ball[0][0], s=200, c='orange')\n",
    "    \n",
    "    plt.quiver(0,0,-joy[0][0],-joy[0][1],angles=\"xy\",scale_units=\"xy\",scale=1)\n",
    "    #plt.quiver(0,0,-0.6,5,angles=\"xy\",scale_units=\"xy\",scale=1)\n",
    "    print(joy)\n",
    "    plt.savefig(str(hidden_size)+'_img'+'.png')"
   ]
  },
  {
   "cell_type": "code",
   "execution_count": null,
   "metadata": {},
   "outputs": [],
   "source": [
    "# 重みのrestore\n",
    "predicts_sess = tf.Session()\n",
    "ckpt = tf.train.get_checkpoint_state('./')\n",
    "if ckpt == None:\n",
    "    print('!!!!!!!WEIGHTS NOT FOUND!!!!!!')\n",
    "\n",
    "saver.restore(predicts_sess, './model.ckpt')"
   ]
  },
  {
   "cell_type": "code",
   "execution_count": null,
   "metadata": {},
   "outputs": [],
   "source": [
    "# ボール座標とスティックの傾きプロット\n",
    "by_max=IN_train.max(axis=0)[1]\n",
    "by_min=IN_train.min(axis=0)[1]\n",
    "\n",
    "ball_y = np.array(range(int(by_min)-3,int(by_max)+3))\n",
    "for i in range(len(ball_y)):\n",
    "    \n",
    "    ball = np.array([[6.0, ball_y[i]/10.0]])\n",
    "    \n",
    "    print(ball)\n",
    "    joy = predicts_sess.run(final_output, feed_dict={INPUT: ball})\n",
    "    plt.scatter(ball[0][1],ball[0][0], s=200, c='orange')\n",
    "    \n",
    "    plt.quiver(0,0,-joy[0][0],-joy[0][1],angles=\"xy\",scale_units=\"xy\",scale=1)\n",
    "    #plt.quiver(0,0,-0.6,5,angles=\"xy\",scale_units=\"xy\",scale=1)\n",
    "    print(joy)\n",
    "    plt.savefig(str(hidden_size)+'_img'+'.png')"
   ]
  }
 ],
 "metadata": {
  "kernelspec": {
   "display_name": "Python 3",
   "language": "python",
   "name": "python3"
  },
  "language_info": {
   "codemirror_mode": {
    "name": "ipython",
    "version": 3
   },
   "file_extension": ".py",
   "mimetype": "text/x-python",
   "name": "python",
   "nbconvert_exporter": "python",
   "pygments_lexer": "ipython3",
   "version": "3.6.5"
  }
 },
 "nbformat": 4,
 "nbformat_minor": 2
}
