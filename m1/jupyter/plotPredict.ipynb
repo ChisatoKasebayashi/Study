{
 "cells": [
  {
   "cell_type": "code",
   "execution_count": 1,
   "metadata": {},
   "outputs": [],
   "source": [
    "import tensorflow as tf\n",
    "import numpy as np\n",
    "import matplotlib.pyplot as plt\n",
    "import matplotlib.animation as animation\n",
    "#%matplotlib nbagg\n",
    "%matplotlib inline\n",
    "import pandas as pd\n",
    "import os\n",
    "\n",
    "config = tf.ConfigProto(\n",
    "    gpu_options=tf.GPUOptions(\n",
    "    allow_growth=True\n",
    "    ))\n"
   ]
  },
  {
   "cell_type": "code",
   "execution_count": 2,
   "metadata": {},
   "outputs": [
    {
     "name": "stderr",
     "output_type": "stream",
     "text": [
      "/usr/local/lib/python3.5/dist-packages/ipykernel_launcher.py:30: MatplotlibDeprecationWarning: pyplot.hold is deprecated.\n",
      "    Future behavior will be consistent with the long-time default:\n",
      "    plot commands add elements without first clearing the\n",
      "    Axes and/or Figure.\n",
      "/usr/local/lib/python3.5/dist-packages/matplotlib/__init__.py:911: MatplotlibDeprecationWarning: axes.hold is deprecated. Please remove it from your matplotlibrc and/or style files.\n",
      "  mplDeprecation)\n",
      "/usr/local/lib/python3.5/dist-packages/matplotlib/rcsetup.py:156: MatplotlibDeprecationWarning: axes.hold is deprecated, will be removed in 3.0\n",
      "  mplDeprecation)\n"
     ]
    },
    {
     "name": "stdout",
     "output_type": "stream",
     "text": [
      "(1339, 19)\n"
     ]
    },
    {
     "data": {
      "image/png": "[encoded data removed]",
      "text/plain": [
       "<Figure size 432x288 with 1 Axes>"
      ]
     },
     "metadata": {},
     "output_type": "display_data"
    }
   ],
   "source": [
    "#----------TRAIN-------------#\n",
    "target_path = '../data/LOG_G/fix_ball_robot/bk_stable/'\n",
    "contents = os.listdir(target_path)\n",
    "data = pd.DataFrame()\n",
    "num = 0\n",
    "for c in range(len(contents)):\n",
    "    #print(target_path+contents[c])\n",
    "    n_data = pd.read_csv(target_path+contents[c],header=None)\n",
    "    data = pd.concat([data,n_data])\n",
    "    \n",
    "#----------TEST-------------#\n",
    "#test_path = '../data/test/test_zenhoukou.csv'\n",
    "#test_path = '../data/LOG_G/stable/log201807311344.csv'\n",
    "#test_path = '../data/LOG_G/stable/log201807292107.csv'\n",
    "#test_path = '../data/LOG_G/stable/log201807292213.csv'\n",
    "#../data/LOG_G/stable/log201807311352.csv\n",
    "#../data/LOG_G/stable/log201807311349.csv\n",
    "#test_path = '../data/LOG_G/stable/log201807292116.csv'\n",
    "#../data/LOG_G/stable/log201807311336.csv\n",
    "#../data/LOG_G/stable/log201807292215.csv\n",
    "#../data/LOG_G/stable/log201807292207.csv\n",
    "#test_path ='../data/test/test_fix_axis.csv'\n",
    "#test_path = '../data/LOG_G/stable/log201807311347.csv'\n",
    "#test_path = '../data/LOG_G/stable/log201807311344.csv'\n",
    "test_path='../data/LOG_G/fix_ball_robot/bk_stable/log201808031448.csv'\n",
    "#test_path='../data/LOG_G/fix_ball_robot/bk_stable/log201808031442.csv'\n",
    "contents = os.listdir(target_path)\n",
    "test_data = pd.read_csv(test_path,header=None)\n",
    "\n",
    "plt.hold(True)\n",
    "plt.grid(color='gray')\n",
    "plt.scatter(data[1],data[0], s=10, c='blue',label='TrainData')\n",
    "plt.grid(color='gray')\n",
    "plt.scatter(test_data[1],test_data[0], s=10, c='red',label='TestData')\n",
    "plt.legend()\n",
    "print(test_data.shape)\n"
   ]
  },
  {
   "cell_type": "code",
   "execution_count": 3,
   "metadata": {},
   "outputs": [
    {
     "name": "stdout",
     "output_type": "stream",
     "text": [
      "Tensor(\"Relu:0\", shape=(?, 10), dtype=float32)\n",
      "Tensor(\"Relu_1:0\", shape=(?, 5), dtype=float32)\n",
      "Tensor(\"Relu_2:0\", shape=(?, 3), dtype=float32)\n",
      "Tensor(\"Add_3:0\", shape=(?, 3), dtype=float32)\n"
     ]
    },
    {
     "data": {
      "text/plain": [
       "'\\n# モデルの定義\\nIN_size = 6\\nTAR_size = 4\\nINPUT = tf.placeholder(shape=[None, IN_size], dtype=tf.float32)\\nTARGET = tf.placeholder(shape=[None, TAR_size], dtype=tf.float32)\\n\\nhidden_size = [50 ,10]\\nbatch_size = 100\\niter_size = 100000\\n\\n#\\u3000隠れ層の作成 （last layerに直結）\\nweights = []\\nbiases = []\\nlayers = []\\ntmp_size = IN_size\\nlast_layer = INPUT\\nfor hsize in hidden_size:\\n    weights.append(tf.Variable(tf.random_normal(shape=[tmp_size, hsize], stddev=10.0)))\\n    biases.append(tf.Variable(tf.random_normal(shape=[hsize], stddev=10.0)))\\n    layers.append(tf.nn.relu(tf.add(tf.matmul(last_layer, weights[-1]), biases[-1]))) # 活性化関数\\n    tmp_size = hsize\\n    last_layer = layers[-1]\\n    print(layers[-1])\\n#\\u3000出力層\\nweights.append(tf.Variable(tf.random_normal(shape=[tmp_size, TAR_size], stddev=10.0)))\\nbiases.append(tf.Variable(tf.random_normal(shape=[TAR_size], stddev=10.0)))\\nlayers.append(tf.add(tf.matmul(last_layer, weights[-1]), biases[-1]))\\nfinal_output = layers[-1]\\n\\nloss = tf.losses.mean_squared_error(TARGET,final_output)\\n'"
      ]
     },
     "execution_count": 3,
     "metadata": {},
     "output_type": "execute_result"
    }
   ],
   "source": [
    "hidden_size = [10,5,3]\n",
    "batch_size = 100\n",
    "iter_size = 50000\n",
    "sess = tf.Session(config=config)\n",
    "\n",
    "IN_size = 2\n",
    "TAR_size = 3\n",
    "INPUT = tf.placeholder(shape=[None, IN_size], dtype=tf.float32)\n",
    "TARGET = tf.placeholder(shape=[None, TAR_size], dtype=tf.float32)\n",
    "\n",
    "#　隠れ層の作成 （last layerに直結）\n",
    "weights = []\n",
    "biases = []\n",
    "layers = []\n",
    "tmp_size = IN_size\n",
    "last_layer = INPUT\n",
    "for hsize in hidden_size:\n",
    "    weights.append(tf.Variable(tf.random_normal(shape=[tmp_size, hsize], stddev=10.0)))\n",
    "    biases.append(tf.Variable(tf.random_normal(shape=[hsize], stddev=10.0)))\n",
    "    layers.append(tf.nn.relu(tf.add(tf.matmul(last_layer, weights[-1]), biases[-1]))) # 活性化関数\n",
    "    tmp_size = hsize\n",
    "    last_layer = layers[-1]\n",
    "    print(layers[-1])\n",
    "#　出力層\n",
    "weights.append(tf.Variable(tf.random_normal(shape=[tmp_size, TAR_size], stddev=10.0)))\n",
    "biases.append(tf.Variable(tf.random_normal(shape=[TAR_size], stddev=10.0)))\n",
    "layers.append(tf.add(tf.matmul(last_layer, weights[-1]), biases[-1]))\n",
    "final_output = layers[-1]\n",
    "print(final_output)\n",
    "loss = tf.losses.mean_squared_error(TARGET,final_output)\n",
    "\n",
    "'''\n",
    "# モデルの定義\n",
    "IN_size = 6\n",
    "TAR_size = 4\n",
    "INPUT = tf.placeholder(shape=[None, IN_size], dtype=tf.float32)\n",
    "TARGET = tf.placeholder(shape=[None, TAR_size], dtype=tf.float32)\n",
    "\n",
    "hidden_size = [50 ,10]\n",
    "batch_size = 100\n",
    "iter_size = 100000\n",
    "\n",
    "#　隠れ層の作成 （last layerに直結）\n",
    "weights = []\n",
    "biases = []\n",
    "layers = []\n",
    "tmp_size = IN_size\n",
    "last_layer = INPUT\n",
    "for hsize in hidden_size:\n",
    "    weights.append(tf.Variable(tf.random_normal(shape=[tmp_size, hsize], stddev=10.0)))\n",
    "    biases.append(tf.Variable(tf.random_normal(shape=[hsize], stddev=10.0)))\n",
    "    layers.append(tf.nn.relu(tf.add(tf.matmul(last_layer, weights[-1]), biases[-1]))) # 活性化関数\n",
    "    tmp_size = hsize\n",
    "    last_layer = layers[-1]\n",
    "    print(layers[-1])\n",
    "#　出力層\n",
    "weights.append(tf.Variable(tf.random_normal(shape=[tmp_size, TAR_size], stddev=10.0)))\n",
    "biases.append(tf.Variable(tf.random_normal(shape=[TAR_size], stddev=10.0)))\n",
    "layers.append(tf.add(tf.matmul(last_layer, weights[-1]), biases[-1]))\n",
    "final_output = layers[-1]\n",
    "\n",
    "loss = tf.losses.mean_squared_error(TARGET,final_output)\n",
    "'''"
   ]
  },
  {
   "cell_type": "code",
   "execution_count": 4,
   "metadata": {},
   "outputs": [
    {
     "name": "stdout",
     "output_type": "stream",
     "text": [
      "INFO:tensorflow:Restoring parameters from ./model.ckpt\n"
     ]
    }
   ],
   "source": [
    "# 重みのrestore\n",
    "saver = tf.train.Saver()\n",
    "predicts_sess = tf.Session(config=config)\n",
    "ckpt = tf.train.get_checkpoint_state('./')\n",
    "if ckpt == None:\n",
    "    print('!!!!!!!WEIGHTS NOT FOUND!!!!!!')\n",
    "\n",
    "saver.restore(predicts_sess, './model.ckpt')"
   ]
  },
  {
   "cell_type": "code",
   "execution_count": 5,
   "metadata": {},
   "outputs": [
    {
     "name": "stdout",
     "output_type": "stream",
     "text": [
      "(1339, 2)\n",
      "[[ 0.01028442  0.          0.        ]\n",
      " [ 0.01028442  0.          0.        ]\n",
      " [ 0.01028442  0.          0.        ]\n",
      " ...\n",
      " [ 0.         -1.          0.        ]\n",
      " [ 0.          0.45358276  0.        ]\n",
      " [ 0.         -0.04125977  0.        ]]\n",
      "[[ 0.0452919  -0.6753261   0.5963001 ]\n",
      " [ 0.0452919  -0.6753261   0.5963001 ]\n",
      " [ 0.0452919  -0.6753261   0.5963001 ]\n",
      " ...\n",
      " [-0.03812718 -0.8580203  -0.13739014]\n",
      " [-0.0358243  -0.8570057  -0.14052391]\n",
      " [-0.03537107 -0.85680604 -0.14113712]]\n"
     ]
    }
   ],
   "source": [
    "test_data.columns = ['l_bx','l_by','l_pole0x','l_pole0y','l_pole1x','l_pole1y','g_bx','g_by','g_pole0x','g_pole0y','g_pole1x','g_pole1y','g_px','g_py','g_pth','ljx','ljy','rjx','rjy']\n",
    "\n",
    "s_INPUT = np.array(test_data.iloc[:,0:2])\n",
    "print(s_INPUT.shape)\n",
    "s_ANS = np.array(test_data.iloc[:,15:18])\n",
    "print(s_ANS)\n",
    "\n",
    "#pred = np.empty((0,3),np.float32)\n",
    "res = np.empty((0,3),np.float32)\n",
    "for i in range(len(s_INPUT)):\n",
    "    s_input = np.array([s_INPUT[i]])\n",
    "    s_ans = np.array([s_ANS[i]])\n",
    "    p = predicts_sess.run(final_output, feed_dict={INPUT: s_input})\n",
    "    test_loss = predicts_sess.run(loss, feed_dict={INPUT: s_input,TARGET:s_ans})\n",
    "    \n",
    "    res = np.append(res, p, axis=0)\n",
    "\n",
    "    #col = np.c_[test_loss, s_input]\n",
    "    #pred = np.append(pred, col, axis=0)\n",
    "print(res)    \n",
    "#p_pred = pd.DataFrame(pred,columns=list('pxy'))\n",
    "#sorted_data = p_pred.sort_values(by='p',ascending=False) #p列において値の大きい順にソート\n",
    "#print(len(pred))"
   ]
  },
  {
   "cell_type": "code",
   "execution_count": 6,
   "metadata": {},
   "outputs": [
    {
     "data": {
      "text/plain": [
       "\"\\nplt.hold(True)\\nplt.scatter(data[1]/100,data[0]/100, s=10, c='palegreen',label='TrainData')\\n\\nthresh = 1\\n\\n#----------TEST-------------#\\nfor t in range(len(pred)):\\n    if pred[t][0] < thresh: #まあほぼ正解\\n        plt.scatter(pred[t][2],pred[t][1], s=10, c='lightcoral')\\n    else: #失敗\\n        plt.scatter(pred[t][2],pred[t][1], s=10, c='c')\\n\""
      ]
     },
     "execution_count": 6,
     "metadata": {},
     "output_type": "execute_result"
    }
   ],
   "source": [
    "'''\n",
    "plt.hold(True)\n",
    "plt.scatter(data[1]/100,data[0]/100, s=10, c='palegreen',label='TrainData')\n",
    "\n",
    "thresh = 1\n",
    "\n",
    "#----------TEST-------------#\n",
    "for t in range(len(pred)):\n",
    "    if pred[t][0] < thresh: #まあほぼ正解\n",
    "        plt.scatter(pred[t][2],pred[t][1], s=10, c='lightcoral')\n",
    "    else: #失敗\n",
    "        plt.scatter(pred[t][2],pred[t][1], s=10, c='c')\n",
    "'''"
   ]
  },
  {
   "cell_type": "code",
   "execution_count": 7,
   "metadata": {},
   "outputs": [
    {
     "name": "stdout",
     "output_type": "stream",
     "text": [
      "loss : 1.7320507764816284\n",
      "min_loss : 0.0003524439965166914\n",
      "loss : 0.8660253882408142\n",
      "min_loss : 0.0001762219982583457\n"
     ]
    },
    {
     "data": {
      "text/plain": [
       "0.8660253882408142"
      ]
     },
     "execution_count": 7,
     "metadata": {},
     "output_type": "execute_result"
    }
   ],
   "source": [
    "def mean_sq_loss(pre, ans):\n",
    "    loss = np.sum(np.sqrt((ans[:,0]-pre[:,0])**2+(ans[:,1]-pre[:,1])**2+(ans[:,2]-pre[:,2])**2))/ len(pre)\n",
    "    print('loss : '  +str(loss) )\n",
    "    bosuu = 12286 * 0.8\n",
    "    min_loss = np.sum(np.sqrt((ans[:,0]-pre[:,0])**2+(ans[:,1]-pre[:,1])**2+(ans[:,2]-pre[:,2])**2))/ bosuu\n",
    "    print('min_loss : '+str(min_loss))\n",
    "    return loss\n",
    "\n",
    "# 確認用配列\n",
    "ans  = np.zeros( (2,10),dtype=np.float32) + 0.0\n",
    "pre  = np.zeros( (2,10),dtype=np.float32) + 1.0\n",
    "pre2 = np.zeros( (2,10),dtype=np.float32) + 0.5\n",
    "# 動作確認\n",
    "mean_sq_loss(pre,ans)\n",
    "mean_sq_loss(pre2,ans)"
   ]
  },
  {
   "cell_type": "code",
   "execution_count": 8,
   "metadata": {
    "scrolled": false
   },
   "outputs": [
    {
     "name": "stdout",
     "output_type": "stream",
     "text": [
      "[ 0.          0.          0.         ... -1.          0.45358276\n",
      " -0.04125977]\n",
      "-------------------\n",
      "[-0.6753261  -0.6753261  -0.6753261  ... -0.8580203  -0.8570057\n",
      " -0.85680604]\n",
      "0.08271257543793273\n"
     ]
    },
    {
     "data": {
      "image/png": "[encoded data removed]",
      "text/plain": [
       "<Figure size 432x288 with 1 Axes>"
      ]
     },
     "metadata": {},
     "output_type": "display_data"
    },
    {
     "data": {
      "image/png": "[encoded data removed]",
      "text/plain": [
       "<Figure size 432x288 with 1 Axes>"
      ]
     },
     "metadata": {},
     "output_type": "display_data"
    },
    {
     "data": {
      "image/png": "[encoded data removed]",
      "text/plain": [
       "<Figure size 432x288 with 1 Axes>"
      ]
     },
     "metadata": {},
     "output_type": "display_data"
    }
   ],
   "source": [
    "#heikinloss = mean_sq_loss(res, s_ANS)\n",
    "\n",
    "t = np.empty(len(s_INPUT))\n",
    "l = np.array([list(range(len(s_INPUT)))])\n",
    "t[:]=l\n",
    "\n",
    "\n",
    "plt.figure(1)\n",
    "plt.scatter(t,s_ANS[:,0],color='r', label='label') #ラベルjx\n",
    "plt.scatter(t,res[:,0],color='b', label='predicts')    #予測\n",
    "plt.ylim(-1,1)\n",
    "plt.xlabel(\"Time\")\n",
    "plt.ylabel(\"Joycon: Right<------>Left\")\n",
    "plt.title('Left Analog stick')\n",
    "plt.savefig(\"test_rightleft.png\")\n",
    "plt.legend()\n",
    "\n",
    "print(s_ANS[:,1])\n",
    "print('-------------------')\n",
    "print(res[:,1])\n",
    "plt.figure(2)\n",
    "plt.scatter(t,s_ANS[:,1],color='r', label='label') #ラベルjx\n",
    "plt.scatter(t,res[:,1],color='b', label='predicts')    #予測\n",
    "plt.ylim(-1.5,0.5)\n",
    "plt.xlabel(\"Time\")\n",
    "plt.ylabel(\"Joycon: Front<------>Back\")\n",
    "plt.title('Left Analog stick')\n",
    "plt.savefig(\"test_frontback.png\")\n",
    "plt.legend()\n",
    "\n",
    "plt.figure(3)\n",
    "plt.title('Reft Analog stick')\n",
    "plt.scatter(t,s_ANS[:,2],color='r', label='label') #ラベルjx\n",
    "plt.scatter(t,res[:,2],color='b', label='predicts')    #予測\n",
    "plt.ylim(-1,1)\n",
    "plt.xlabel(\"Time\")\n",
    "plt.ylabel(\"Joycon: Right<------>Left\")\n",
    "plt.savefig(\"test_kakudai.png\")\n",
    "\n",
    "\n",
    "plt.legend()\n",
    "\n",
    "heikinloss = np.sum(np.sqrt((s_ANS[:,0]-res[:,0])**2+(s_ANS[:,1]-res[:,1])**2+(s_ANS[:,2]-res[:,2])**2))/6000\n",
    "print(heikinloss)"
   ]
  },
  {
   "cell_type": "code",
   "execution_count": null,
   "metadata": {},
   "outputs": [],
   "source": []
  }
 ],
 "metadata": {
  "kernelspec": {
   "display_name": "Python 3",
   "language": "python",
   "name": "python3"
  },
  "language_info": {
   "codemirror_mode": {
    "name": "ipython",
    "version": 3
   },
   "file_extension": ".py",
   "mimetype": "text/x-python",
   "name": "python",
   "nbconvert_exporter": "python",
   "pygments_lexer": "ipython3",
   "version": "3.5.2"
  }
 },
 "nbformat": 4,
 "nbformat_minor": 2
}
