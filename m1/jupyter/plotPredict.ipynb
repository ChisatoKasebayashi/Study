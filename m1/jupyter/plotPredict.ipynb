{
 "cells": [
  {
   "cell_type": "code",
   "execution_count": null,
   "metadata": {},
   "outputs": [],
   "source": [
    "import tensorflow as tf\n",
    "import numpy as np\n",
    "import matplotlib.pyplot as plt\n",
    "%matplotlib inline\n",
    "import pandas as pd\n",
    "import os"
   ]
  },
  {
   "cell_type": "code",
   "execution_count": null,
   "metadata": {},
   "outputs": [],
   "source": [
    "#----------TRAIN-------------#\n",
    "target_path = '../data/chisato/goal/'\n",
    "contents = os.listdir(target_path)\n",
    "data = pd.DataFrame()\n",
    "num = 0\n",
    "for c in range(len(contents)):\n",
    "    #print(target_path+contents[c])\n",
    "    n_data = pd.read_csv(target_path+contents[c],header=None)\n",
    "    data = pd.concat([data,n_data])\n",
    "plt.hold(True)\n",
    "plt.grid(color='gray')\n",
    "plt.scatter(data[1],data[0], s=10, c='blue',label='TrainData')\n",
    "    \n",
    "#----------TEST-------------#\n",
    "test_path = '../data/seki/log201805261718.csv'\n",
    "contents = os.listdir(target_path)\n",
    "test_data = pd.read_csv(test_path,header=None)\n",
    "plt.grid(color='gray')\n",
    "plt.scatter(test_data[1],test_data[0], s=10, c='red',label='TestData')\n",
    "plt.legend()"
   ]
  },
  {
   "cell_type": "code",
   "execution_count": null,
   "metadata": {},
   "outputs": [],
   "source": [
    "IN_size = 2\n",
    "TAR_size = 2\n",
    "INPUT = tf.placeholder(shape=[None, IN_size], dtype=tf.float32)\n",
    "TARGET = tf.placeholder(shape=[None, TAR_size], dtype=tf.float32)\n",
    "\n",
    "hidden_size = [25]\n",
    "batch_size = 100\n",
    "iter_size = 50000\n",
    "\n",
    "#　隠れ層の作成 （last layerに直結）\n",
    "weights = []\n",
    "biases = []\n",
    "layers = []\n",
    "tmp_size = IN_size\n",
    "last_layer = INPUT\n",
    "for hsize in hidden_size:\n",
    "    weights.append(tf.Variable(tf.random_normal(shape=[tmp_size, hsize], stddev=10.0)))\n",
    "    biases.append(tf.Variable(tf.random_normal(shape=[hsize], stddev=10.0)))\n",
    "    layers.append(tf.nn.relu(tf.add(tf.matmul(last_layer, weights[-1]), biases[-1]))) # 活性化関数\n",
    "    tmp_size = hsize\n",
    "    last_layer = layers[-1]\n",
    "    print(layers[-1])\n",
    "#　出力層\n",
    "weights.append(tf.Variable(tf.random_normal(shape=[tmp_size, TAR_size], stddev=10.0)))\n",
    "biases.append(tf.Variable(tf.random_normal(shape=[TAR_size], stddev=10.0)))\n",
    "layers.append(tf.add(tf.matmul(last_layer, weights[-1]), biases[-1]))\n",
    "final_output = layers[-1]\n",
    "\n",
    "loss = tf.losses.mean_squared_error(TARGET,final_output)"
   ]
  },
  {
   "cell_type": "code",
   "execution_count": null,
   "metadata": {},
   "outputs": [],
   "source": [
    "# 重みのrestore\n",
    "saver = tf.train.Saver()\n",
    "predicts_sess = tf.Session()\n",
    "ckpt = tf.train.get_checkpoint_state('./')\n",
    "if ckpt == None:\n",
    "    print('!!!!!!!WEIGHTS NOT FOUND!!!!!!')\n",
    "\n",
    "saver.restore(predicts_sess, './model.ckpt')"
   ]
  },
  {
   "cell_type": "code",
   "execution_count": null,
   "metadata": {},
   "outputs": [],
   "source": [
    "test_data.columns = ['bx','by','jx','jy']\n",
    "test_data = test_data[test_data.bx!=-1]\n",
    "s_INPUT = np.array(test_data.iloc[:,0:2])\n",
    "print(s_INPUT.shape)\n",
    "s_ANS = np.array(test_data.iloc[:,2:4])\n",
    "print(s_ANS.shape)\n",
    "pred = np.empty((0,3),np.float32)\n",
    "for i in range(len(s_INPUT)):\n",
    "    s_input = np.array([s_INPUT[i]])/100\n",
    "    s_ans = np.array([s_ANS[i]])\n",
    "    #s_ans = np.array([s_ANS[i]])/100\n",
    "    res = predicts_sess.run(final_output, feed_dict={INPUT: s_input})\n",
    "    test_loss = predicts_sess.run(loss, feed_dict={INPUT: s_input,TARGET:s_ans})\n",
    "    #print(np.c_[test_loss, s_input])\n",
    "    col = np.c_[test_loss, s_input]\n",
    "    pred = np.append(pred, col, axis=0)\n",
    "    \n",
    "p_pred = pd.DataFrame(pred,columns=list('pxy'))\n",
    "sorted_data = p_pred.sort_values(by='p',ascending=False) #p列において値の大きい順にソート\n",
    "print(len(pred))"
   ]
  },
  {
   "cell_type": "code",
   "execution_count": null,
   "metadata": {},
   "outputs": [],
   "source": [
    "plt.hold(True)\n",
    "plt.scatter(data[1]/100,data[0]/100, s=10, c='palegreen',label='TrainData')\n",
    "\n",
    "thresh = 1\n",
    "\n",
    "#----------TEST-------------#\n",
    "for t in range(len(pred)):\n",
    "    if pred[t][0] < thresh: #まあほぼ正解\n",
    "        plt.scatter(pred[t][2],pred[t][1], s=10, c='lightcoral')\n",
    "    else: #失敗\n",
    "        plt.scatter(pred[t][2],pred[t][1], s=10, c='c')\n",
    "        \n"
   ]
  }
 ],
 "metadata": {
  "kernelspec": {
   "display_name": "Python 3",
   "language": "python",
   "name": "python3"
  },
  "language_info": {
   "codemirror_mode": {
    "name": "ipython",
    "version": 3
   },
   "file_extension": ".py",
   "mimetype": "text/x-python",
   "name": "python",
   "nbconvert_exporter": "python",
   "pygments_lexer": "ipython3",
   "version": "3.6.5"
  }
 },
 "nbformat": 4,
 "nbformat_minor": 2
}
