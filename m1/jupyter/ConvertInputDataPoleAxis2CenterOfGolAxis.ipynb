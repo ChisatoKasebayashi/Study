{
 "cells": [
  {
   "cell_type": "code",
   "execution_count": 1,
   "metadata": {},
   "outputs": [],
   "source": [
    "import numpy as np\n",
    "import matplotlib.pyplot as plt\n",
    "import pandas as pd\n",
    "import os"
   ]
  },
  {
   "cell_type": "code",
   "execution_count": 2,
   "metadata": {},
   "outputs": [],
   "source": [
    "# 変換したデータを保存するパスの指定\n"
   ]
  },
  {
   "cell_type": "code",
   "execution_count": 3,
   "metadata": {},
   "outputs": [
    {
     "name": "stdout",
     "output_type": "stream",
     "text": [
      "../data/LOG_G/x1500-y-1100_fix_ball_robot_recovery_action/stable/log201808071317.csv\n",
      "../data/LOG_G/x1500-y-1100_fix_ball_robot_recovery_action/stable/log201808071320.csv\n",
      "../data/LOG_G/x1500-y-1100_fix_ball_robot_recovery_action/stable/log201808061458.csv\n",
      "../data/LOG_G/x1500-y-1100_fix_ball_robot_recovery_action/stable/log201808061526.csv\n",
      "../data/LOG_G/x1500-y-1100_fix_ball_robot_recovery_action/stable/log201808061727.csv\n",
      "../data/LOG_G/x1500-y-1100_fix_ball_robot_recovery_action/stable/log201808061453.csv\n",
      "../data/LOG_G/x1500-y-1100_fix_ball_robot_recovery_action/stable/log201808061510.csv\n",
      "../data/LOG_G/x1500-y-1100_fix_ball_robot_recovery_action/stable/log201808061520.csv\n",
      "../data/LOG_G/x1500-y-1100_fix_ball_robot_recovery_action/stable/log201808071200.csv\n"
     ]
    }
   ],
   "source": [
    "# Recovery action の入ったデータ\n",
    "r_path = '../data/LOG_G/x1500-y-1100_fix_ball_robot_recovery_action/stable/'\n",
    "contents = os.listdir(r_path)\n",
    "data = pd.DataFrame()\n",
    "num = 0\n",
    "for c in range(len(contents)):\n",
    "    print(r_path+contents[c])\n",
    "    n_data = pd.read_csv(r_path+contents[c],header=None)\n",
    "    data = pd.concat([data,n_data])"
   ]
  },
  {
   "cell_type": "code",
   "execution_count": 4,
   "metadata": {},
   "outputs": [
    {
     "name": "stdout",
     "output_type": "stream",
     "text": [
      "../data/LOG_G/fix_ball_robot/bk_stable/log201808031448.csv\n",
      "../data/LOG_G/fix_ball_robot/bk_stable/log201808031442.csv\n",
      "../data/LOG_G/fix_ball_robot/bk_stable/log201808031431.csv\n",
      "../data/LOG_G/fix_ball_robot/bk_stable/log201808031503.csv\n",
      "../data/LOG_G/fix_ball_robot/bk_stable/log201808031429.csv\n",
      "../data/LOG_G/fix_ball_robot/bk_stable/log201808031508.csv\n",
      "../data/LOG_G/fix_ball_robot/bk_stable/log201808031618.csv\n",
      "19\n"
     ]
    }
   ],
   "source": [
    "# ブレることなくボールをゴールに運んだデータ\n",
    "target_path = '../data/LOG_G/fix_ball_robot/bk_stable/'\n",
    "#target_path = '../data/LOG_G/gotya/'\n",
    "contents = os.listdir(target_path)\n",
    "num = 0\n",
    "for c in range(len(contents)):\n",
    "    print(target_path+contents[c])\n",
    "    n_data = pd.read_csv(target_path+contents[c],header=None)\n",
    "    data = pd.concat([data,n_data])\n",
    "    \n",
    "d = data\n",
    "print(len(d.columns))"
   ]
  },
  {
   "cell_type": "code",
   "execution_count": 5,
   "metadata": {},
   "outputs": [],
   "source": [
    "d.columns = ['l_bx','l_by','l_pole0x','l_pole0y','l_pole1x','l_pole1y','g_bx','g_by','g_pole0x','g_pole0y','g_pole1x','g_pole1y','g_px','g_py','g_pth','ljx','ljy','rjx','rjy']"
   ]
  },
  {
   "cell_type": "code",
   "execution_count": 9,
   "metadata": {},
   "outputs": [
    {
     "name": "stdout",
     "output_type": "stream",
     "text": [
      "17\n"
     ]
    }
   ],
   "source": [
    "#print(d['l_pole0x'])\n",
    "#print(d['l_pole1x'])\n",
    "#print(d['l_pole0x']-d['l_pole1x'])\n",
    "center_goal_x = pd.DataFrame()\n",
    "center_goal_y = pd.DataFrame()\n",
    "center_goal_x = (d['l_pole0x']+d['l_pole1x'])/2\n",
    "#print(center_goal_x)\n",
    "center_goal_y = (d['l_pole0y']+d['l_pole1y'])/2\n",
    "d['l_pole0x'] = center_goal_x\n",
    "d['l_pole0y'] = center_goal_y\n",
    "d_new = d.drop(['l_pole1x','l_pole1y'], axis=1)\n",
    "print(len(d_new.columns))\n",
    "d_new.to_csv('/home/yota/workspace/Study/m1/data/LOG_G/ConvertData/convData.csv',index=False,header=False)"
   ]
  }
 ],
 "metadata": {
  "kernelspec": {
   "display_name": "Python 3",
   "language": "python",
   "name": "python3"
  },
  "language_info": {
   "codemirror_mode": {
    "name": "ipython",
    "version": 3
   },
   "file_extension": ".py",
   "mimetype": "text/x-python",
   "name": "python",
   "nbconvert_exporter": "python",
   "pygments_lexer": "ipython3",
   "version": "3.5.2"
  }
 },
 "nbformat": 4,
 "nbformat_minor": 2
}
